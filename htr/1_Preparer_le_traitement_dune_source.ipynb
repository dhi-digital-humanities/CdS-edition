{
 "cells": [
  {
   "cell_type": "markdown",
   "id": "68643b6b",
   "metadata": {},
   "source": [
    "Préparer le traitement d'une source\n",
    "====\n",
    "<br>\n",
    "\n",
    "Trois aspects de la source à traiter doivent faire l'objet d'une évaluation en amont du traitement :\n",
    "1. Les qualités physiques du document (état de conservation, lisibilité)\n",
    "2. Les caractéristiques de la reproduction photographique\n",
    "3. Les caractéristiques paléographiques de la source\n",
    "\n",
    "# Convertir les images\n",
    "\n",
    "Il est recommandé de commencer par importer le contenu du dossier de la source, contenant toutes les images, dans un dossier local temporaire (on le supprimera aussitôt après avoir sélectionné les images à traiter)."
   ]
  },
  {
   "cell_type": "code",
   "execution_count": null,
   "id": "7f2b936a",
   "metadata": {},
   "outputs": [],
   "source": [
    "!mkdir --parents ~/Bureau/ma-source"
   ]
  },
  {
   "cell_type": "markdown",
   "id": "b199645a",
   "metadata": {},
   "source": [
    "Copier et convertir des images est très simple avec logiciel libre [XnView MP](https://www.xnview.com/fr/xnviewmp/) : une fois que l'on se trouve dans un dossier d'images, la commande **Ctrl + U** ouvre la fenêtre de traitement par lot.\n",
    "- On renseigne un dossier de sortie\n",
    "- Le nom de fichier est identique à la source avec le motif **{Filename}**\n",
    "- On choisit comme format JPG - JPEG / JFIF\n",
    "- On clique sur **Convertir**\n",
    "\n",
    "![démo-conversion](./img/demo/conversion-format-img.png)\n",
    "\n",
    "(Attention, chaque fois que l'on ré-enregistre un fichier au format `.jpg`, une nouvelle compression des données s'opère, il est donc recommandé de ne pas modifier ces fichiers une fois convertis)."
   ]
  },
  {
   "cell_type": "markdown",
   "id": "b9b24f7f",
   "metadata": {},
   "source": [
    "# Sélectionner les pièces inventoriées\n",
    "\n",
    "Toutes les reproductions photographiques n'ont pas été inventoriées et toutes les lettres inventoriées n'ont pas été publiées. Au moment de la copie des reproductions d'une source, il est donc nécessaire de ne prendre en compte que les pièces publiées dans l'inventaire.\n",
    "\n",
    "## Lister les images inventoriées d'un dossier\n",
    "\n",
    "On initie le dossier où l'on importera les images de la source à traiter :"
   ]
  },
  {
   "cell_type": "code",
   "execution_count": 7,
   "id": "48833fb8",
   "metadata": {},
   "outputs": [],
   "source": [
    "# On recommande d'importer les images de la source dans le dossier créé par la commande suivante\n",
    "!mkdir --parents ./sources/img-complet/"
   ]
  },
  {
   "cell_type": "markdown",
   "id": "d55026c9",
   "metadata": {},
   "source": [
    "L'utilisation du script [donneesImages.py](./py/donneesImages.py) va générer dans le dossier que l'on vient de créer un fichier Json contenant la **liste des notices d'inventaires publiées** pour les images contenues dans le dossier source, ainsi que la liste des images non inventoriées."
   ]
  },
  {
   "cell_type": "code",
   "execution_count": 8,
   "id": "1b0b9fea",
   "metadata": {},
   "outputs": [
    {
     "name": "stdout",
     "output_type": "stream",
     "text": [
      "Le fichier ./sources/img-complet/donnees.json a été écrit avec succès.\r\n"
     ]
    }
   ],
   "source": [
    "!python3 py/donneesImages.py ~/Bureau/ma-source/ ./sources/img-complet/"
   ]
  },
  {
   "cell_type": "markdown",
   "id": "101f6f7a",
   "metadata": {},
   "source": [
    "Le fichier Json créé contient un dénombrement des images correspondant à (au moins) une notice et des images ne correspondant à aucune notice :"
   ]
  },
  {
   "cell_type": "code",
   "execution_count": 9,
   "id": "08310224",
   "metadata": {},
   "outputs": [
    {
     "name": "stdout",
     "output_type": "stream",
     "text": [
      "Le nombre d'images possédant une notice est de 258.\n",
      "Le nombre d'images ne possédant pas de notice est de 77.\n"
     ]
    }
   ],
   "source": [
    "import json\n",
    "\n",
    "with open(\"./sources/img-complet/donnees.json\") as jsonf:\n",
    "    donnees = json.load(jsonf)\n",
    "\n",
    "print(f\"Le nombre d'images possédant une notice est de {donnees['stats']['records']}.\")\n",
    "print(f\"Le nombre d'images ne possédant pas de notice est de {donnees['stats']['no-record']}.\")"
   ]
  },
  {
   "cell_type": "markdown",
   "id": "5067f8f0",
   "metadata": {},
   "source": [
    "## Copier uniquement les images inventoriées\n",
    "\n",
    "Pour importer dans le dossier où nous avons placé le fichier Json les images du dossier source qui possèdent une notice d'inventaire publiée, on lance le script [importImages.py](./py/importImages.py) :"
   ]
  },
  {
   "cell_type": "code",
   "execution_count": 10,
   "id": "d041d44f",
   "metadata": {},
   "outputs": [
    {
     "name": "stdout",
     "output_type": "stream",
     "text": [
      "La liste des images à copier a été correctement écrite dans le fichier ./sources/img-complet/copier.txt\r\n"
     ]
    }
   ],
   "source": [
    "!python3 py/importImages.py ~/Bureau/ma-source/ ./sources/img-complet/"
   ]
  },
  {
   "cell_type": "markdown",
   "id": "b39f287a",
   "metadata": {},
   "source": [
    "Avec la ligne de commande suivante, on copie dans le dossier ./img/source-a-traiter/ les images possédant une notice :"
   ]
  },
  {
   "cell_type": "code",
   "execution_count": 11,
   "id": "45287577",
   "metadata": {},
   "outputs": [],
   "source": [
    "!cat ./sources/img-complet/copier.txt | xargs -I '{}' cp '{}' ./sources/img-complet/"
   ]
  }
 ],
 "metadata": {
  "kernelspec": {
   "display_name": "Python 3 (ipykernel)",
   "language": "python",
   "name": "python3"
  },
  "language_info": {
   "codemirror_mode": {
    "name": "ipython",
    "version": 3
   },
   "file_extension": ".py",
   "mimetype": "text/x-python",
   "name": "python",
   "nbconvert_exporter": "python",
   "pygments_lexer": "ipython3",
   "version": "3.8.10"
  }
 },
 "nbformat": 4,
 "nbformat_minor": 5
}
