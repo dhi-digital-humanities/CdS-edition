{
 "cells": [
  {
   "cell_type": "markdown",
   "metadata": {},
   "source": [
    "Corriger une prédiction HTR\n",
    "===\n",
    "<br>\n",
    "D'après la démarche expliquée dans la documentation du projet DAHN, on procède selon les étapes suivantes."
   ]
  },
  {
   "cell_type": "markdown",
   "metadata": {},
   "source": [
    "On privilégie le format XML-Page pour exporter et réimporter les prédictions HTR dans le logiciel de transcription."
   ]
  },
  {
   "cell_type": "code",
   "execution_count": 1,
   "metadata": {},
   "outputs": [
    {
     "name": "stdout",
     "output_type": "stream",
     "text": [
      "On place les prédictions HTR dans le dossier : ./xmlPage-aCorriger/\n"
     ]
    }
   ],
   "source": [
    "from py.constantes import XMLaCORRIGER, XMLCORRIGEES\n",
    "print(f\"On place les prédictions HTR dans le dossier : {XMLaCORRIGER}\")"
   ]
  },
  {
   "cell_type": "markdown",
   "metadata": {},
   "source": [
    "# Analyser le contenu de la prédiction\n",
    "\n",
    "Exécuter le script **spellcheckTexts.py**, qui analyse chaque mot des prédictions HTR et génère pour chaque fichier XML à corriger un dictionnaire au format Json contenant des propositions de corrections (cela peut prendre quelques minutes…) : "
   ]
  },
  {
   "cell_type": "code",
   "execution_count": 2,
   "metadata": {},
   "outputs": [
    {
     "name": "stdout",
     "output_type": "stream",
     "text": [
      "Le fichier ./xmlPage-aCorriger/CdS02_Konv002-03_0057.xml est en cours de lecture.\n",
      "=> Le dictionnaire ./py/dicos/aCorriger/page_CdS02_Konv002-03_0057.json a été écrit correctement.\n",
      "\n"
     ]
    }
   ],
   "source": [
    "!python3 py/spellcheckTexts.py"
   ]
  },
  {
   "cell_type": "markdown",
   "metadata": {},
   "source": [
    "# Corriger les dictionnaires de pages\n",
    "\n",
    "Corriger à la main les entrées du dictionnaire de chacun des fichiers commençant par \"page\" générés dans le dossier [dicos/aCorriger](py/dicos/aCorriger).\n",
    "\n",
    "## Forme erronée et plusieurs propositions de correction\n",
    "\n",
    "Lorsque les propositions de corrections sont multiples, on doit veiller à placer en première position la correction souhaitée :\n",
    "```json\n",
    "\"fout\": {\n",
    "    \"lem\": [\n",
    "        \"faut\",\n",
    "        \"font\"\n",
    "    ],\n",
    "  \"ctxt\": [\"Les bons comptes FOUT les bons amis\"]\n",
    "```\n",
    "\n",
    "Il faut donc corriger pour obtenir :\n",
    "```json\n",
    "\"fout\": {\n",
    "    \"lem\": [\n",
    "        \"font\",\n",
    "        \"faut\"\n",
    "    ],\n",
    "  \"ctxt\": [\"Les bons comptes FOUT les bons amis\"]\n",
    "```\n",
    "\n",
    "On peut également supprimer la correction non souhaitée :\n",
    "```json\n",
    "\"fout\": {\n",
    "    \"lem\": [\n",
    "        \"font\"\n",
    "    ],\n",
    "  \"ctxt\": [\"Les bons comptes FOUT les bons amis\"]\n",
    "```\n",
    "\n",
    "\n",
    "## Forme juste et proposition de correction fausse\n",
    "\n",
    "Lorsque la forme prédite est juste mais que la proposition de correction n'est pas juste, il faut remplacer cette dernière par la forme juste. Par exemple, le dictionnaire propose automatiquement :\n",
    "```json\n",
    "\"Cet\": {\n",
    "    \"lem\": \"et\",\n",
    "    \"ctxt\": \"CET ouvrage que je viens de publier\"\n",
    "}\n",
    "```\n",
    "Ici, \"Cet\" est juste, et la proposition \"et\" est fausse, on doit donc la remplacer ainsi :\n",
    "```json\n",
    "\"Cet\": {\n",
    "    \"lem\": \"Cet\",\n",
    "    \"ctxt\": \"CET ouvrage que je viens de publier\"\n",
    "}\n",
    "```\n",
    "\n",
    "## Forme juste et proposition de correction \"null\"\n",
    "\n",
    "Il n'est pas nécessaire de transformer les mots justes dont le lemme est indiqué comme \"null\".\n",
    "\n",
    "## Les noms propres\n",
    "\n",
    "Les **patronymes** représentent une difficulté importante de la transcription. Ils ont par bonheur été déjà identifiés. On se reportera donc aux notices du site web. On se reportera aux [outils du dossier donnees/](https://github.com/sbiay/CdS-edition/tree/main/donnees#outils), et plus particulièrement au [notebook](https://github.com/sbiay/CdS-edition/blob/main/donnees/Obtenir_metadonnees_images.ipynb) dédié à la récupération des liens vers les notices de l'inventaire à partir d'un nom de fichier image.\n",
    "\n",
    "D'une façon générale, il est peu efficace de proposer des corrections pour les mots brefs et rencontrés dans **les passages les plus cursifs** (bouts de lignes, date, expéditeur) : la pércision de la reconnaissance y est faible, et plus un mot et bref plus la correction pose de problèmes d'ambiguïté.\n",
    "\n",
    "A l'inverse, il n'est pas gênant de proposer des corrections pour les mots très mal prédits, longs, coupés par une espace. L'intérêt d'inscrire cette correction dans le dictionnaire est limité, car la probabilité de recroiser la même forme est à peu près nulle, mais le risque d'ambiguïté est tout aussi faible : autant appliquer la correction dès le stade de la validation du dictionnaire de page plutôt que d'attendre de la recroiser à la relecture finale.\n",
    "\n",
    "## Sauvegarder le dictionnaire de page corrigé\n",
    "\n",
    "Une fois les corrections faites, on copie le fichier dans le dossier [dicos/corriges](py/dicos/corriges)."
   ]
  },
  {
   "cell_type": "markdown",
   "metadata": {},
   "source": [
    "# Enrichir le dictionnaire du projet\n",
    "\n",
    "Une fois cette tâche accomplie, on applique le script [integrationDicts.py](./py/integrationDicts.py). Voyons dans un premier temps son rôle et les options qu'il propose :"
   ]
  },
  {
   "cell_type": "code",
   "execution_count": 1,
   "metadata": {},
   "outputs": [
    {
     "name": "stdout",
     "output_type": "stream",
     "text": [
      "Usage: integrationDicts.py [OPTIONS]\r\n",
      "\r\n",
      "  Ce script prend comme paramètres une source consistant en un fichier Json\r\n",
      "  d'entrée contenu dans le dossier dicos le compare au contenu de\r\n",
      "  correctionsCDS.json, intègre les entrées nouvelles et retourne des\r\n",
      "  messages d'alertes pour les entrées générant un conflit d'intégration.\r\n",
      "  :param fichierdictpages: fichier Json issu de la correction automatisée\r\n",
      "  d'une page de transcription :type fichierdictpages: Json :returns: None\r\n",
      "\r\n",
      "Options:\r\n",
      "  -f, --file TEXT  Nom de fichier contenu dans le dossier ./py/dicos/\r\n",
      "  -A, --all        Prend tous les fichiers du dossier ./py/dicos/\r\n",
      "  --help           Show this message and exit.\r\n"
     ]
    }
   ],
   "source": [
    "!python3 py/integrationDicts.py --help"
   ]
  },
  {
   "cell_type": "code",
   "execution_count": 23,
   "metadata": {},
   "outputs": [
    {
     "name": "stdout",
     "output_type": "stream",
     "text": [
      "Traitement du fichier page_CdS02_Konv002-03_0056.json\r\n",
      "\r\n",
      "=> Le dictionnaire correctionsCDS.json est désormais à jour.\r\n"
     ]
    }
   ],
   "source": [
    "# Ajouter l'option qui convient et relancer le script\n",
    "!python3 py/integrationDicts.py -A"
   ]
  },
  {
   "cell_type": "markdown",
   "metadata": {},
   "source": [
    "Si des problèmes d'ambiguïté ont été signalés, on doit les corriger à la main dans les dictionnaires. Deux cas se présentent :\n",
    "- Si l'on souhaite faire prévaloir la correction proposée dans le dictionnaire complet de la correspondance [correctionsCDS.json](./py/dicos/correctionsCDS.json), on inscrit \"null\" comme lemme dans le dictionaire de la page\n",
    "- Si l'on considère qu'il ne faut plus proposer de correction pour la forme signalée, qu'elle doit être considérée comme ambiguë, on inscrit \"null\" comme lemme dans le dictionaire de la page **et aussi** comme lemme de la forme dans le [correctionsCDS.json](./py/dicos/correctionsCDS.json).\n",
    "\n",
    "On relance le script après chaque correction que l'on effectue."
   ]
  },
  {
   "cell_type": "markdown",
   "metadata": {},
   "source": [
    "# Appliquer le dictionnaire du projet aux fichiers XML\n",
    "\n",
    "On procède grâce au script [text_correction_XML.py](./py/text_correction_XML.py) :"
   ]
  },
  {
   "cell_type": "code",
   "execution_count": 6,
   "metadata": {},
   "outputs": [
    {
     "name": "stdout",
     "output_type": "stream",
     "text": [
      "Le fichier CdS02_Konv002-03_0057.xml a été corrigé avec succès\r\n"
     ]
    }
   ],
   "source": [
    "!python3 py/textCorrection.py"
   ]
  },
  {
   "cell_type": "markdown",
   "metadata": {},
   "source": [
    "On finalise le processus de correction avec les étapes suivantes :\n",
    "1. Réimporter les fichiers corrigés dans eScriptorium ;\n",
    "2. Finaliser manuellement la correction des transcriptions ;\n",
    "3. Télécharger la verité de terrain pour la sauvegarder au format XML-Alto."
   ]
  },
  {
   "cell_type": "code",
   "execution_count": null,
   "metadata": {},
   "outputs": [],
   "source": [
    "print(f\"On place les vérités de terrain dans le dossier : {XMLCORRIGEES}\")"
   ]
  }
 ],
 "metadata": {
  "kernelspec": {
   "display_name": "Python 3 (ipykernel)",
   "language": "python",
   "name": "python3"
  },
  "language_info": {
   "codemirror_mode": {
    "name": "ipython",
    "version": 3
   },
   "file_extension": ".py",
   "mimetype": "text/x-python",
   "name": "python",
   "nbconvert_exporter": "python",
   "pygments_lexer": "ipython3",
   "version": "3.8.10"
  }
 },
 "nbformat": 4,
 "nbformat_minor": 2
}
