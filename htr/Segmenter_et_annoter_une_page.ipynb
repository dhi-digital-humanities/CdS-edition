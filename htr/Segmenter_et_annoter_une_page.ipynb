{
 "cells": [
  {
   "cell_type": "markdown",
   "id": "08fe14a6",
   "metadata": {},
   "source": [
    "Segmenter et annoter les pages d'un dossier\n",
    "===\n",
    "<br>\n",
    "\n",
    "On emploie pour la segmentation le modèle personnalisé [copie-deux-04.mlmodel](./modeles-seg/copie-deux-04.mlmodel). Pour en savoir plus sur l'entraînement de ce modèle, voir la [documentation analytique](https://github.com/sbiay/CdS-edition/blob/main/rapportBiay/documentation.pdf)."
   ]
  },
  {
   "cell_type": "markdown",
   "id": "9ead6ce0",
   "metadata": {},
   "source": [
    "# Eliminer les régions non pertinentes\n",
    "\n",
    "Une fois la segmentation automatique appliquée dans eScriptorium, tous les textes n'ayant pas été inventoriés, il est important de supprimer les régions d'écriture qui les contiennent.\n",
    "\n",
    "Le fichier **donnees.json** généré par le script [donneesImages.py](./py/donneesImages.py) permet de consulter le nombre de notices (*records*) par image (sous la clé **images**) et de contrôler les zones de l'image pertinentes à partir de l'*incipit* de la lettre inventoriée.\n",
    "\n",
    "Par exemple, l'image CdS02_Konv002-02_0073.jpg ci-dessous contient une seule lettre inventoriée :"
   ]
  },
  {
   "cell_type": "markdown",
   "id": "c9b9ad9c",
   "metadata": {},
   "source": [
    "![CdS02_Konv002-02_0073](./demo/select-CdS02_Konv002-02_0073.jpg)"
   ]
  },
  {
   "cell_type": "markdown",
   "id": "6ae49de9",
   "metadata": {},
   "source": [
    "On lit dans le fichier de données :\n",
    "\n",
    "```json\n",
    "{\n",
    "   \"results\": {\n",
    "      \"images\": {\n",
    "         \"CdS02_Konv002-02_0073.jpg\": {\n",
    "            \"record_nb\": 1,\n",
    "            \"records\": [\n",
    "               {\n",
    "                  \"idno\": \"CdS-b1-06ot\",\n",
    "                  \"incipit\": \"J’ai fait attendre votre messager, Monsieur, pour vous dire moi-même…\",\n",
    "                  \"URL\": \"https://constance-de-salm.de/archiv/#/document/8855\"\n",
    "               }\n",
    "            ]\n",
    "         },\n",
    "         \"…\": {…}\n",
    "      },\n",
    "      \"records\": {…},\n",
    "      \"no-record\": null\n",
    "   },\n",
    "   \"stats\": {\n",
    "      \"images\": 24,\n",
    "      \"records\": 24,\n",
    "      \"no-record\": 0,\n",
    "      \"total\": 24\n",
    "   }\n",
    "}\n",
    "```\n",
    "\n",
    "Attention ! Les incipits ne sont pas forcément écrits dans l'image en question, car une lettre peut très bien commencer à l'image prédécente…\n",
    "\n",
    "(Pour générer à nouveau le fichier de données, on peut relancer le script ici :)"
   ]
  },
  {
   "cell_type": "code",
   "execution_count": null,
   "id": "81b4937a",
   "metadata": {},
   "outputs": [],
   "source": [
    "!python3 py/donneesImages.py DOSSIER-SOURCE DOSSIER-SORTIE"
   ]
  },
  {
   "cell_type": "markdown",
   "id": "4b262eea",
   "metadata": {},
   "source": [
    "Les éléments non-inventoriés ayant été supprimés, l'image segmentée ressemble désormais à ceci :\n",
    "\n",
    "![CdS02_Konv002-02_0073-b](./demo/select-CdS02_Konv002-02_0073-b.jpg)"
   ]
  },
  {
   "cell_type": "markdown",
   "id": "45ea5584",
   "metadata": {},
   "source": [
    "# Correction de l'annotation des régions et des lignes\n",
    "\n",
    "On passe à la phase d'[annotation manuelle](https://lectaurep.hypotheses.org/documentation/prendre-en-main-escriptorium#annotationmanuelle), au cours de laquelle on appliquera la typologie des régions et des lignes. La typologie retenue s'inscrit dans le cadre défini par l'ontologie [SegmOnto](https://github.com/SegmOnto/Guidelines).\n",
    "\n",
    "## Régions\n",
    "\n",
    "L'annotation des régions est nécessaire aux étapes ultérieures de la chaîne de traitement.\n",
    "\n",
    "Deux régions principales caractérisent la structure des lettres :\n",
    "- **CustomZone:header** (en-tête) : présent dans les recueils\n",
    "- **MainZone** (région principale)\n",
    "\n",
    "Ces régions sont définies de manière visuelle et non sémantique. La sémantique est portée par l'annotation des lignes.\n",
    "\n",
    "D'autres types permettent d'annoter les éléments secondaires ou les additions :\n",
    "- **MarginTextZone** (annotation marginale) : voir exemples ci-dessous\n",
    "- **NumberingZone** (numérotation) : concerne tous les systèmes de numérotation, quelle que soit leur époque\n",
    "- **RunningTitleZone** (titre courant) : pour les titres courants, absents des photographies de démonstration\n",
    "\n",
    "Les **couleurs** employées dans les documents suivants n'ont qu'une valeur démonstrative : appliquer une charte chromatique pour l'ontologie des zones et des régions n'apporte rien à l'exploitabilité des données."
   ]
  },
  {
   "cell_type": "markdown",
   "id": "16dc2898",
   "metadata": {},
   "source": [
    "![Annotation des régions d'écriture](./demo/annotation-CdS02_Konv002-02_0066-v3.png)"
   ]
  },
  {
   "cell_type": "markdown",
   "id": "d846e8e4",
   "metadata": {},
   "source": [
    "### MarginTextZone (annotation marginale)\n",
    "\n",
    "Exemples :\n",
    "\n",
    "![Indications de contenu](./demo/regeste.jpg)\n",
    "\n",
    "![Annotation courante](./demo/CdS02_Konv002-02_0066_detail-04.jpg)"
   ]
  },
  {
   "cell_type": "markdown",
   "id": "876fcf96",
   "metadata": {},
   "source": [
    "## Lignes\n",
    "\n",
    "💣 Attention ! Il est capital de bien lier les lignes à leur région ! En cas de doute, on reconstruit les liens en sélectionnant toutes les lignes (Ctrl + A) puis en appuyant sur Y ou en cliquant sur le bouton entouré en jaune :"
   ]
  },
  {
   "cell_type": "markdown",
   "id": "136ee286",
   "metadata": {},
   "source": [
    "![Lier les lignes aux régions](./demo/lier-lignes-regions.jpg)"
   ]
  },
  {
   "cell_type": "markdown",
   "id": "70701aa8",
   "metadata": {},
   "source": [
    "Une région peut ne pas comporter de ligne (par exemple il n'est pas nécessaire de créer des lignes dans les zones de notes marginales que l'on transcrira de manière manuelle).\n",
    "\n",
    "### DefaultLine (ligne par défaut)\n",
    "\n",
    "Cette catégorie désigne toutes les lignes du corps du texte et toutes celles ne s'inscrivant dans aucune des autres catégories. Leur annotation est généralement faite correctement lors de la phase automatique."
   ]
  },
  {
   "cell_type": "markdown",
   "id": "bbed81df",
   "metadata": {},
   "source": [
    "### HeadingLine:title (titre)\n",
    "\n",
    "On ne distingue pas titre et sous-titre."
   ]
  },
  {
   "cell_type": "markdown",
   "id": "3158c76b",
   "metadata": {},
   "source": [
    "![title](./demo/title.jpg)"
   ]
  },
  {
   "cell_type": "markdown",
   "id": "5bf49831",
   "metadata": {},
   "source": [
    "### CustomLine:dateline (mention de date)\n",
    "\n",
    "Cette ligne peut se trouver aussi bien au début qu'à la fin de la lettre."
   ]
  },
  {
   "cell_type": "markdown",
   "id": "ca4af273",
   "metadata": {},
   "source": [
    "![dateline](./demo/dateline.jpg)"
   ]
  },
  {
   "cell_type": "markdown",
   "id": "2edc4842",
   "metadata": {},
   "source": [
    "### CustomLine:salute (formule de politesse)\n",
    "\n",
    "Selon les [TEI-Guidelines](https://tei-c.org/release/doc/tei-p5-doc/fr/html/ref-salute.html), *contient un dédicace ou une formule de salut qui précède un avant-propos ou autre division du texte; ou bien encore la formule de politesse qui conclut une lettre, une préface, etc.*\n",
    "\n",
    "- En début de lettre :"
   ]
  },
  {
   "cell_type": "markdown",
   "id": "e9e4f0df",
   "metadata": {},
   "source": [
    "![salute-opener](./demo/salute.jpg)"
   ]
  },
  {
   "cell_type": "markdown",
   "id": "a250951c",
   "metadata": {},
   "source": [
    "- En fin de lettre :"
   ]
  },
  {
   "cell_type": "markdown",
   "id": "7904a339",
   "metadata": {},
   "source": [
    "![salute-closer](./demo/closer-03.jpg)"
   ]
  },
  {
   "cell_type": "markdown",
   "id": "cff0f2ab",
   "metadata": {},
   "source": [
    "### CustomLine:annotations (notes appartenant à la MainZone)"
   ]
  },
  {
   "cell_type": "markdown",
   "id": "8dc2fa67",
   "metadata": {},
   "source": [
    "Par exemple une note relative au type et au numéro de lettre :"
   ]
  },
  {
   "cell_type": "markdown",
   "id": "68dce122",
   "metadata": {},
   "source": [
    "![Note](./demo/note-01.jpg)"
   ]
  },
  {
   "cell_type": "markdown",
   "id": "ea357c93",
   "metadata": {},
   "source": [
    "### InterlinearLine (interligne)"
   ]
  },
  {
   "cell_type": "markdown",
   "id": "0e1d90ab",
   "metadata": {},
   "source": [
    "![Exemple de correction](./demo/correction.jpg)"
   ]
  },
  {
   "cell_type": "markdown",
   "id": "83531b15",
   "metadata": {},
   "source": [
    "### CustomLine:verse (vers)"
   ]
  },
  {
   "cell_type": "markdown",
   "id": "793bf5fa",
   "metadata": {},
   "source": [
    "![vers](./demo/vers.jpg)"
   ]
  },
  {
   "cell_type": "markdown",
   "id": "01286241",
   "metadata": {},
   "source": [
    "### CustomLine:signature (signature)"
   ]
  },
  {
   "cell_type": "markdown",
   "id": "53f17d41",
   "metadata": {},
   "source": [
    "![closer-02](./demo/closer-02.jpg)"
   ]
  },
  {
   "cell_type": "markdown",
   "id": "21492d28",
   "metadata": {},
   "source": [
    "### CustomLine:postscript (post-scriptum)"
   ]
  },
  {
   "cell_type": "markdown",
   "id": "7bfc9a9e",
   "metadata": {},
   "source": [
    "![post-scriptum](./demo/closer-01.jpg)"
   ]
  },
  {
   "cell_type": "markdown",
   "id": "7a108128",
   "metadata": {},
   "source": [
    "### CustomLine:header (en-tête ou manchette)"
   ]
  },
  {
   "cell_type": "markdown",
   "id": "c1a4bad3",
   "metadata": {},
   "source": [
    "![Mention d'expéditeur](./demo/expediteur.jpg)"
   ]
  },
  {
   "cell_type": "markdown",
   "id": "eb5f36ec",
   "metadata": {},
   "source": [
    "## Tracé\n",
    "\n",
    "Les corrections de tracé de ligne doivent être faites avant de contrôle l'ordre des lignes. Supprimer une ligne rétablit l'ordre initial et oblige à réitérer les éventuelles modifications d'ordre déjà faites.\n",
    "\n",
    "## Ordre\n",
    "\n",
    "Il est important de contrôler l'ordre des lignes ou \"segments\" (voir la [documentation en ligne](https://lectaurep.hypotheses.org/documentation/prendre-en-main-escriptorium#segment-order)). **Attention : si les régions n'englobent pas correctement les lignes de texte qu'elles contiennent, l'ordre peut s'en trouver fortement perturbé** (notamment si une région de la page de gauche empiète sur la zone de la page de droite)."
   ]
  },
  {
   "cell_type": "markdown",
   "id": "c1bd7a87",
   "metadata": {},
   "source": [
    "# Valider l'annotation des régions\n",
    "\n",
    "Il est important de contrôler l'annotation des régions et des lignes, et ce pour deux raisons :\n",
    "- Afin de vérifier que l'on a correctement respecté les catégories Segmonto\n",
    "- Afin de vérifier que l'on n'a pas oublié d'annoter les lignes ou certaines régions d'une page (ce qui est fréquent étant donné le caractère répétitif de la tâche)\n",
    "\n",
    "On peut procéder à cette validation en exportant l'ensemble des pages traitées, en les dézippant dans un dossier et en lançant la commande suivante depuis l'intérieur du dossier en question (bien vérifier que l'environnement virtuel du projet soit actif) :"
   ]
  },
  {
   "cell_type": "code",
   "execution_count": null,
   "id": "fad29418",
   "metadata": {},
   "outputs": [],
   "source": [
    "!htrvx ./*xml --format alto --segmonto"
   ]
  },
  {
   "cell_type": "markdown",
   "id": "3287f8a7",
   "metadata": {},
   "source": [
    "Si l'on obtient le message *n wrongly tagged zones* pour un fichier, et que la vérification de la page concernée ne permet pas de découvrir où se trouve la zone mal annotée, il se peut que le message d'erreur concerne une minuscule zone sans ligne. On ne tient alors pas compte de l'erreur. On peut alors renouveler l'export depuis eScriptorium en décochant *Undefined region type* (les petites régions vides seront ainsi ignorées).\n",
    "\n",
    "Si le diagnostic persiste avec *n wrongly tagged zones*, il se peut que les **lignes** des régions concernées ne leur aient **pas été correctement associées**."
   ]
  }
 ],
 "metadata": {
  "kernelspec": {
   "display_name": "Python 3 (ipykernel)",
   "language": "python",
   "name": "python3"
  },
  "language_info": {
   "codemirror_mode": {
    "name": "ipython",
    "version": 3
   },
   "file_extension": ".py",
   "mimetype": "text/x-python",
   "name": "python",
   "nbconvert_exporter": "python",
   "pygments_lexer": "ipython3",
   "version": "3.8.10"
  }
 },
 "nbformat": 4,
 "nbformat_minor": 5
}
