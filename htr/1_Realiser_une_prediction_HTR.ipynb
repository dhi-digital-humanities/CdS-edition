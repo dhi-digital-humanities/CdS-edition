{
 "cells": [
  {
   "cell_type": "markdown",
   "id": "a530c60d",
   "metadata": {},
   "source": [
    "Réaliser une prédiction HTR\n",
    "===\n",
    "<br>\n",
    "\n",
    "# Convertir les images\n",
    "\n",
    "Afin de ne pas manipuler puis stocker des fichiers de trop gros format, on recommande de convertir les fichiers images `.tif` de l'archive de la correspondance au format `.jpg`. \n",
    "\n",
    "La conversion des images est très simple avec logiciel libre [XnView MP](https://www.xnview.com/fr/xnviewmp/):\n",
    "\n",
    "![démo-conversion](./img/demo/conversion-format-img.png)"
   ]
  },
  {
   "cell_type": "markdown",
   "id": "2f114903",
   "metadata": {},
   "source": [
    "(Attention, chaque fois que l'on ré-enregistre un fichier au format `.jpg`, une nouvelle compression des données s'opère, il est donc recommandé de ne pas modifier ces fichiers une fois convertis).\n",
    "\n",
    "# Logiciel de transcription automatisée"
   ]
  }
 ],
 "metadata": {
  "kernelspec": {
   "display_name": "Python 3 (ipykernel)",
   "language": "python",
   "name": "python3"
  },
  "language_info": {
   "codemirror_mode": {
    "name": "ipython",
    "version": 3
   },
   "file_extension": ".py",
   "mimetype": "text/x-python",
   "name": "python",
   "nbconvert_exporter": "python",
   "pygments_lexer": "ipython3",
   "version": "3.8.10"
  }
 },
 "nbformat": 4,
 "nbformat_minor": 5
}
