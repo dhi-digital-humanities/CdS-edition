{
 "cells": [
  {
   "cell_type": "markdown",
   "metadata": {},
   "source": [
    "Corriger une prédiction HTR\n",
    "===\n",
    "<br>\n",
    "D'après la démarche expliquée dans la documentation du projet DAHN, on procède selon les étapes suivantes."
   ]
  },
  {
   "cell_type": "markdown",
   "metadata": {},
   "source": [
    "On privilégie le format XML-Page pour exporter et réimporter les prédictions HTR dans le logiciel de transcription."
   ]
  },
  {
   "cell_type": "code",
   "execution_count": 1,
   "metadata": {},
   "outputs": [
    {
     "name": "stdout",
     "output_type": "stream",
     "text": [
      "On place les prédictions HTR dans le dossier : ./xmlPage-aCorriger/\n"
     ]
    }
   ],
   "source": [
    "from py.constantes import XMLaCORRIGER, XMLCORRIGEES\n",
    "print(f\"On place les prédictions HTR dans le dossier : {XMLaCORRIGER}\")"
   ]
  },
  {
   "cell_type": "markdown",
   "metadata": {},
   "source": [
    "# Analyser le contenu de la prédiction\n",
    "\n",
    "Exécuter le script **spellcheck_texts_PAGEXML.py**, qui analyse chaque mot des prédictions HTR et génère pour chaque fichier XML à corriger un dictionnaire au format Json contenant des propositions de corrections : "
   ]
  },
  {
   "cell_type": "code",
   "execution_count": 2,
   "metadata": {},
   "outputs": [
    {
     "name": "stdout",
     "output_type": "stream",
     "text": [
      "Le fichier ./xmlPage-aCorriger/CdS02_Konv002-02_0175.xml est en cours de lecture.\n",
      "Le dictionnaire ./py/dicos/page_CdS02_Konv002-02_0175.json a été écrit correctement.\n",
      "Le fichier ./xmlPage-aCorriger/CdS02_Konv002-02_0073.xml est en cours de lecture.\n",
      "Le dictionnaire ./py/dicos/page_CdS02_Konv002-02_0073.json a été écrit correctement.\n",
      "Le fichier ./xmlPage-aCorriger/CdS02_Konv002-02_0191.xml est en cours de lecture.\n",
      "Le dictionnaire ./py/dicos/page_CdS02_Konv002-02_0191.json a été écrit correctement.\n",
      "Le fichier ./xmlPage-aCorriger/CdS02_Konv002-02_0190.xml est en cours de lecture.\n",
      "Le dictionnaire ./py/dicos/page_CdS02_Konv002-02_0190.json a été écrit correctement.\n"
     ]
    }
   ],
   "source": [
    "!python3 py/spellcheck_texts_PAGEXML.py"
   ]
  },
  {
   "cell_type": "markdown",
   "metadata": {},
   "source": [
    "# Corriger les dictionnaires de pages\n",
    "\n",
    "Corriger à la main les entrées du dictionnaire de chacun des fichiers commençant par \"page\" générés dans le dossier [dicos/](py/dicos/).\n",
    "\n",
    "**Attention** : il faut bien veiller à…\n",
    "- Ne pas transformer de mots qui seraient justes dans un autre contexte (comme le mot **\"tout\"** dans l'exemple suivant, qui ne doit pas être corrigé en \"août\" bien que le contexte s'y prête, au risque de modifier des \"tout\" pertinents dans leur propre contexte)\n",
    "\n",
    "- Éliminer les propositions de lemmes erronées, en modifiant le lemme comme \"null\" (**\"Paris\"** dans l'exemple suivant)\n",
    "\n",
    "Il n'est pas nécessaire de transformer les mots justes dont le lemme est indiqué comme \"null\", car ils seront intégrés au réservoir des mots connus dès leurs prochaine rencontre (ici l'exemple de **\"homme\"**).\n",
    "\n",
    "```json\n",
    "{\n",
    "    \"tout\": {\n",
    "      \"lem\": null,\n",
    "      \"ctxt\": \"Dyck, ce 3 TOUT 1818\"\n",
    "   },\n",
    "    \"Paris\": {\n",
    "      \"lem\": \"pris\",\n",
    "      \"ctxt\": \"c est qu il retournera à PARIS dans le mois\"\n",
    "   },\n",
    "    \"homme\": {\n",
    "      \"lem\": null,\n",
    "      \"ctxt\": \"que ce brave HOMME se rétablisse\"\n",
    "   },\n",
    "}\n",
    "```"
   ]
  },
  {
   "cell_type": "markdown",
   "metadata": {},
   "source": [
    "# Enrichir le dictionnaire du projet\n",
    "\n",
    "Une fois cette tâche accomplie, on applique le script [integrationDicts.py](./py/integrationDicts.py). Voyons dans un premier temps son rôle et les options qu'il propose :"
   ]
  },
  {
   "cell_type": "code",
   "execution_count": 3,
   "metadata": {},
   "outputs": [
    {
     "name": "stdout",
     "output_type": "stream",
     "text": [
      "Usage: integrationDicts.py [OPTIONS]\r\n",
      "\r\n",
      "  Ce script prend comme paramètres une source consistant en un fichier Json\r\n",
      "  d'entrée contenu dans le dossier dicos le compare au contenu de\r\n",
      "  corresp.json, intègre les entrées nouvelles et retourne des messages\r\n",
      "  d'alertes pour les entrées générant un conflit d'intégration. :param\r\n",
      "  fichierdictpages: fichier Json issu de la correction automatisée d'une\r\n",
      "  page de transcription :type fichierdictpages: Json :returns: None\r\n",
      "\r\n",
      "Options:\r\n",
      "  -f, --file TEXT  Nom de fichier contenu dans le dossier ./py/dicos/\r\n",
      "  -A, --all        Prend tous les fichiers du dossier ./py/dicos/\r\n",
      "  --help           Show this message and exit.\r\n"
     ]
    }
   ],
   "source": [
    "!python3 py/integrationDicts.py --help"
   ]
  },
  {
   "cell_type": "code",
   "execution_count": 4,
   "metadata": {},
   "outputs": [
    {
     "name": "stdout",
     "output_type": "stream",
     "text": [
      "Traitement du fichier page_CdS02_Konv002-02_0190.json\r\n",
      "Traitement du fichier page_CdS02_Konv002-02_0073.json\r\n",
      "Traitement du fichier page_CdS02_Konv002-02_0191.json\r\n",
      "Traitement du fichier page_CdS02_Konv002-02_0175.json\r\n"
     ]
    }
   ],
   "source": [
    "# Ajouter l'option qui convient et relancer le script\n",
    "!python3 py/integrationDicts.py -A"
   ]
  },
  {
   "cell_type": "markdown",
   "metadata": {},
   "source": [
    "Si des problèmes d'ambiguïté ont été signalés, on doit les corriger à la main dans les dictionnaires. Deux cas se présentent :\n",
    "- Si l'on souhaite faire prévaloir la correction proposée dans le dictionnaire complet de la correspondance [corresp.json](./py/dicos/corresp.json), on inscrit \"null\" comme lemme dans le dictionaire de la page\n",
    "- Si l'on considère qu'il ne faut plus proposer de correction pour la forme signalée, qu'elle doit être considérée comme ambiguë, on inscrit on inscrit \"null\" comme lemme dans le dictionaire de la page **et aussi** comme lemme de la forme dans le [corresp.json](./py/dicos/corresp.json).\n",
    "\n",
    "On relance le script après chaque correction que l'on effectue."
   ]
  },
  {
   "cell_type": "markdown",
   "metadata": {},
   "source": [
    "# Appliquer le dictionnaire du projet aux fichiers XML\n",
    "\n",
    "On procède grâce au script [text_correction_XML.py](./py/text_correction_XML.py) :"
   ]
  },
  {
   "cell_type": "code",
   "execution_count": 5,
   "metadata": {},
   "outputs": [
    {
     "name": "stdout",
     "output_type": "stream",
     "text": [
      "Le fichier CdS02_Konv002-02_0175.xml a été corrigé avec succès\n",
      "Le fichier CdS02_Konv002-02_0073.xml a été corrigé avec succès\n",
      "Le fichier CdS02_Konv002-02_0191.xml a été corrigé avec succès\n",
      "Le fichier CdS02_Konv002-02_0190.xml a été corrigé avec succès\n",
      "Le dictionnaire corresp.json est désormais à jour.\n"
     ]
    }
   ],
   "source": [
    "!python3 py/text_correction_XML.py"
   ]
  },
  {
   "cell_type": "markdown",
   "metadata": {},
   "source": [
    "On finalise le processus de correction avec les étapes suivantes :\n",
    "1. Réimporter les fichiers corrigés dans eScriptorium ;\n",
    "2. Finaliser manuellement la correction des transcriptions ;\n",
    "3. Télécharger la verité de terrain pour la sauvegarder au format XML-Alto."
   ]
  },
  {
   "cell_type": "code",
   "execution_count": null,
   "metadata": {},
   "outputs": [],
   "source": [
    "print(f\"On place les vérités de terrain dans le dossier : {XMLCORRIGEES}\")"
   ]
  }
 ],
 "metadata": {
  "kernelspec": {
   "display_name": "Python 3 (ipykernel)",
   "language": "python",
   "name": "python3"
  },
  "language_info": {
   "codemirror_mode": {
    "name": "ipython",
    "version": 3
   },
   "file_extension": ".py",
   "mimetype": "text/x-python",
   "name": "python",
   "nbconvert_exporter": "python",
   "pygments_lexer": "ipython3",
   "version": "3.8.10"
  }
 },
 "nbformat": 4,
 "nbformat_minor": 2
}
