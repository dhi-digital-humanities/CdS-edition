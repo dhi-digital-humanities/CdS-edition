{
 "cells": [
  {
   "cell_type": "markdown",
   "id": "d8ccfdf8",
   "metadata": {},
   "source": [
    "Segmenter et annoter les pages d'un dossier\n",
    "===\n",
    "<br>\n",
    "\n",
    "# Lancer la segmentation automatisée\n",
    "On emploie l'algorithme par défaut pour la segmentation.\n",
    "\n",
    "\n",
    "# Annoter les régions et les lignes d'écriture de la page\n",
    "\n",
    "Une fois la segmentation faite, on passe à la phase d'[annotation manuelle](https://lectaurep.hypotheses.org/documentation/prendre-en-main-escriptorium#annotationmanuelle), au cours de laquelle on applique la typologie des régions et des lignes. Cette typologie retenue s'inscrit dans le cadre défini par l'ontologie [SegmOnto](https://github.com/SegmOnto/Guidelines).\n",
    "\n",
    "Les **couleurs** employées dans les documents suivants n'ont qu'une valeur démonstrative : appliquer une charte chromatique pour l'ontologie des zones et des régions n'apporte rien à l'exploitabilité des données."
   ]
  },
  {
   "cell_type": "markdown",
   "id": "2f114903",
   "metadata": {},
   "source": [
    "![Typage des régions](./demo/annotation-CdS02_Konv002-02_0066.png)"
   ]
  },
  {
   "cell_type": "markdown",
   "id": "21427ada",
   "metadata": {},
   "source": [
    "## Régions\n",
    "\n",
    "L'annotation des régions est nécessaire aux étapes ultérieures de la chaîne de traitement.\n",
    "\n",
    "Trois régions principales caractérisent la structure des lettres :\n",
    "- **CustomZone:opener** (formule de début)\n",
    "- **MainZone** (région principale)\n",
    "- **CustomZone:closer** (formule finale)\n",
    "\n",
    "Ces régions sont définies de manière visuelle et non sémantique. La sémantique est portée par l'annotation des lignes.\n",
    "\n",
    "D'autres types permettent d'annoter les éléments secondaires ou les additions :\n",
    "- **MarginTextZone** (annotation marginale) : voir exemples ci-dessous\n",
    "- **NumberingZone** (numérotation) : concerne tous les systèmes de numérotation, quelle que soit leur époque\n",
    "- **RunningTitleZone** (titre courant) : pour les titres courants, absents des photographies de démonstration\n",
    "\n",
    "Chaque page doit en outre être annotée **CustomZone:page**"
   ]
  },
  {
   "cell_type": "markdown",
   "id": "c50692b6",
   "metadata": {},
   "source": [
    "![annotation-page](./demo/annotation-page-CdS02_Konv002-02_0066.png)"
   ]
  },
  {
   "cell_type": "markdown",
   "id": "69ee49ae",
   "metadata": {},
   "source": [
    "### MarginTextZone (annotation marginale)\n",
    "\n",
    "![Indications de contenu](./demo/regeste.jpg)\n",
    "\n",
    "![Annotation courante](./demo/CdS02_Konv002-02_0066_detail-04.jpg)"
   ]
  },
  {
   "cell_type": "markdown",
   "id": "c80d2984",
   "metadata": {},
   "source": [
    "## Lignes\n",
    "\n",
    "L'annotation des lignes n'est pas nécessaire aux étapes ultérieures de la chaîne de traitement. Elle permet simplement d'accélérer l'encodage du texte lorsque l'on préfère travailler dans une interface visuelle plutôt que de procéder à l'encodage TEI directement dans un éditeur de XML.\n",
    "\n",
    "Une zone peut ne pas comporter de ligne (par exemple il n'est pas nécessaire de créer des lignes dans les zones de notes marginales que l'on transcrira de manière manuelle).\n",
    "\n",
    "### DefaultLine (ligne par défaut)\n",
    "\n",
    "Il est conseillé de commencer l'annotation des lignes en appliquant cette catégorie à toutes les lignes. Cette catégorie désigne toutes les lignes du corps du texte et toutes celles ne s'inscrivant dans aucune des autres catégories."
   ]
  },
  {
   "cell_type": "markdown",
   "id": "b27dcfd1",
   "metadata": {},
   "source": [
    "### HeadingLine:title (titre)\n",
    "\n",
    "On ne distingue pas titre et sous-titre."
   ]
  },
  {
   "cell_type": "markdown",
   "id": "36ee71aa",
   "metadata": {},
   "source": [
    "![title](./demo/title.jpg)"
   ]
  },
  {
   "cell_type": "markdown",
   "id": "2f0be649",
   "metadata": {},
   "source": [
    "### CustomLine:dateline (mention de date)\n",
    "\n",
    "Cette ligne peut se trouver au niveau de la région *closer* de la lettre."
   ]
  },
  {
   "cell_type": "markdown",
   "id": "5215bff5",
   "metadata": {},
   "source": [
    "![dateline](./demo/dateline.jpg)"
   ]
  },
  {
   "cell_type": "markdown",
   "id": "2332d842",
   "metadata": {},
   "source": [
    "### CustomLine:salute (formule de politesse)\n",
    "\n",
    "Selon les [TEI-Guidelines](https://tei-c.org/release/doc/tei-p5-doc/fr/html/ref-salute.html), *contient un dédicace ou une formule de salut qui précède un avant-propos ou autre division du texte; ou bien encore la formule de politesse qui conclut une lettre, une préface, etc.*\n",
    "\n",
    "- En début de lettre :"
   ]
  },
  {
   "cell_type": "markdown",
   "id": "bfe76a07",
   "metadata": {},
   "source": [
    "![salute-opener](./demo/salute.jpg)"
   ]
  },
  {
   "cell_type": "markdown",
   "id": "7cb8c4d7",
   "metadata": {},
   "source": [
    "- En fin de lettre :"
   ]
  },
  {
   "cell_type": "markdown",
   "id": "6b9c71bf",
   "metadata": {},
   "source": [
    "![salute-closer](./demo/closer-03.jpg)"
   ]
  },
  {
   "cell_type": "markdown",
   "id": "f80cc165",
   "metadata": {},
   "source": [
    "### Lignes du *opener* non annotées\n",
    "\n",
    "- Le rappel de l'expéditeur et de l'année d'expédition en haut à gauche :\n",
    "    "
   ]
  },
  {
   "cell_type": "markdown",
   "id": "5583443c",
   "metadata": {},
   "source": [
    "![Mention d'année et d'expéditeur](./demo/note-02.jpg)"
   ]
  },
  {
   "cell_type": "markdown",
   "id": "64b84fe2",
   "metadata": {},
   "source": [
    "- Une note relative au type et au numéro de lettre :"
   ]
  },
  {
   "cell_type": "markdown",
   "id": "97e0253d",
   "metadata": {},
   "source": [
    "![Note](./demo/note-01.jpg)"
   ]
  },
  {
   "cell_type": "markdown",
   "id": "9fdd8267",
   "metadata": {},
   "source": [
    "### InterlinearLine (interligne)"
   ]
  },
  {
   "cell_type": "markdown",
   "id": "436f7d68",
   "metadata": {},
   "source": [
    "![Exemple de correction](./demo/correction.jpg)"
   ]
  },
  {
   "cell_type": "markdown",
   "id": "c3dcc865",
   "metadata": {},
   "source": [
    "### CustomLine:verse (vers)"
   ]
  },
  {
   "cell_type": "markdown",
   "id": "1a8fa3f6",
   "metadata": {},
   "source": [
    "![vers](./demo/vers.jpg)"
   ]
  },
  {
   "cell_type": "markdown",
   "id": "95cb0f1b",
   "metadata": {},
   "source": [
    "### CustomLine:signature (signature)"
   ]
  },
  {
   "cell_type": "markdown",
   "id": "7998738b",
   "metadata": {},
   "source": [
    "![closer-02](./demo/closer-02.jpg)"
   ]
  },
  {
   "cell_type": "markdown",
   "id": "d203f509",
   "metadata": {},
   "source": [
    "### CustomLine:postscript (post-scriptum)"
   ]
  },
  {
   "cell_type": "markdown",
   "id": "9054549b",
   "metadata": {},
   "source": [
    "![post-scriptum](./demo/closer-01.jpg)"
   ]
  },
  {
   "cell_type": "markdown",
   "id": "002f8c37",
   "metadata": {},
   "source": [
    "# Contrôler la reconnaissance des lignes\n",
    "\n",
    "Il n'est pas rare que les petites lignes d'écriture, notamment lorsqu'elles sont en oblique, ne soit pas correctement reconnues, comme dans les mentions d'expédition :"
   ]
  },
  {
   "cell_type": "markdown",
   "id": "91319814",
   "metadata": {},
   "source": [
    "![Mention d'expéditeur](./demo/expediteur.jpg)"
   ]
  },
  {
   "cell_type": "markdown",
   "id": "2256b280",
   "metadata": {},
   "source": [
    "## Tracé\n",
    "\n",
    "Les corrections de tracé de ligne doivent être faites avant de contrôle l'ordre des lignes. Supprimer une ligne rétablit l'ordre initial et oblige à réitérer les éventuelles modifications d'ordre déjà faites.\n",
    "\n",
    "## Ordre\n",
    "\n",
    "Il est important de contrôler l'ordre des lignes ou \"segments\" (voir la [documentation en ligne](https://lectaurep.hypotheses.org/documentation/prendre-en-main-escriptorium#segment-order)) :\n",
    "- Il est plus efficace de remonter les lignes qui ont un numéro trop élevé que de descendre des lignes qui ont un numéro trop petit\n",
    "- Si les zones ont été correctement définies, notamment les **pages** (CustomZone:page), le fait de déconnecter toutes les lignes de leur zone et de les reconnecter doit permettre de résoudre l'essentiel des problèmes d'ordre. Mais **attention : si les pages n'englobent pas correctement les zones de texte qu'elles contiennent, l'ordre peut s'en trouver fortement perturbé** (notamment si une zone de texte de la page de gauche empiète sur la zone de la page de droite)."
   ]
  },
  {
   "cell_type": "markdown",
   "id": "bb461cd8",
   "metadata": {},
   "source": [
    "# Valider l'annotation des régions\n",
    "\n",
    "Il est important de contrôler l'annotation des régions et des lignes, et ce pour deux raisons :\n",
    "- Afin de vérifier que l'on a correctement respecté les catégories Segmonto\n",
    "- Afin de vérifier que l'on n'a pas oublié d'annoter les lignes ou certaines régions d'une page (ce qui est fréquent étant donné le caractère répétitif de la tâche)\n",
    "\n",
    "On peut procéder à cette validation en exportant l'ensemble des pages traitées, en les dézippant dans un dossier et en lançant la commande suivante depuis l'intérieur du dossier en question (bien vérifier que l'environnement virtuel du projet soit actif) :"
   ]
  },
  {
   "cell_type": "code",
   "execution_count": null,
   "id": "d8383e30",
   "metadata": {},
   "outputs": [],
   "source": [
    "!htrvx ./*xml --format alto --segmonto"
   ]
  },
  {
   "cell_type": "markdown",
   "id": "7b830b3c",
   "metadata": {},
   "source": [
    "Si l'on obtient le message *1 wrongly tagged zones* pour un fichier, et que la vérification de la page concernée ne permet pas de découvrir où se trouve la zone mal annotée, il se peut que le message d'erreur concerne une minuscule zone sans ligne. On ne tient alors pas compte de l'erreur."
   ]
  }
 ],
 "metadata": {
  "kernelspec": {
   "display_name": "Python 3 (ipykernel)",
   "language": "python",
   "name": "python3"
  },
  "language_info": {
   "codemirror_mode": {
    "name": "ipython",
    "version": 3
   },
   "file_extension": ".py",
   "mimetype": "text/x-python",
   "name": "python",
   "nbconvert_exporter": "python",
   "pygments_lexer": "ipython3",
   "version": "3.8.10"
  }
 },
 "nbformat": 4,
 "nbformat_minor": 5
}
