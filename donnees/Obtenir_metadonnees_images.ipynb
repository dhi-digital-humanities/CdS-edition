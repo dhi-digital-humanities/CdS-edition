{
 "cells": [
  {
   "cell_type": "markdown",
   "id": "52c1b014",
   "metadata": {},
   "source": [
    "Obtenir les métadonnées d'une image\n",
    "===\n",
    "\n",
    "Le script suivant permet, à partir d'une liste d'images, de récupérer leur identifiant dans l'inventaire complet de la correspondance ainsi que l'URL de la notice publiée sur le [site web](http://constance-de-salm.de)"
   ]
  },
  {
   "cell_type": "code",
   "execution_count": null,
   "id": "9cb121a4",
   "metadata": {},
   "outputs": [],
   "source": [
    "listeImages = [\n",
    "    \"CdS02_Konv002-02_0066.jpg\",\n",
    "    \"CdS02_Konv002-02_0073.jpg\",\n",
    "    \"CdS02_Konv002-02_0175.jpg\",\n",
    "    \"CdS02_Konv002-02_0191.jpg\"\n",
    "]\n",
    "\n",
    "from toutesDonnees import donneesFud, donneesZenodo\n",
    "\n",
    "\n",
    "# On charge les données exportées de FuD et de Zenodo\n",
    "fud = donneesFud()\n",
    "zenodo = donneesZenodo()\n",
    "\n",
    "resultats = []\n",
    "\n",
    "# On boucle sur chaque image de la liste\n",
    "for image in listeImages:\n",
    "    for item in fud:\n",
    "        # On pose comme condition que l'item ait une liste d'images\n",
    "        if item.get(\"Images\"):\n",
    "            # et que cette liste ne soit pas vide\n",
    "            if item[\"Images\"]:\n",
    "                # On pose enfin comme condition que l'image recherchée soit dans la liste\n",
    "                if image in item[\"Images\"]:\n",
    "                    zenodo[item[\"idno\"]][\"nom_image\"] = image\n",
    "                    resultats.append(zenodo[item[\"idno\"]])\n",
    "\n",
    "# On affiche les résultats\n",
    "for resultat in resultats:\n",
    "    print(f\"\"\"{resultat['nom_image']} :\\n- A pour identifiant : {resultat['Nr. der Digitalisate']}\\n- A pour URL : {resultat['URL']}\"\"\")\n",
    "print(\"\\n\")\n",
    "\n",
    "# On identifie les images sans résultats\n",
    "nomsResultats = [resultat['nom_image'] for resultat in resultats]\n",
    "for image in listeImages:\n",
    "    if image not in nomsResultats:\n",
    "        print(f\"L'image {image} n'a pas de notice.\")"
   ]
  }
 ],
 "metadata": {
  "kernelspec": {
   "display_name": "Python 3 (ipykernel)",
   "language": "python",
   "name": "python3"
  },
  "language_info": {
   "codemirror_mode": {
    "name": "ipython",
    "version": 3
   },
   "file_extension": ".py",
   "mimetype": "text/x-python",
   "name": "python",
   "nbconvert_exporter": "python",
   "pygments_lexer": "ipython3",
   "version": "3.8.10"
  }
 },
 "nbformat": 4,
 "nbformat_minor": 5
}
