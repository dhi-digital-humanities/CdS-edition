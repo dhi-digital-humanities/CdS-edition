{
 "cells": [
  {
   "cell_type": "markdown",
   "id": "415ee65b",
   "metadata": {},
   "source": [
    "Tester et entraîner un modèle HTR\n",
    "===\n",
    "\n",
    "\n",
    "# Tester les performances du modèle\n",
    "\n",
    "Les recueils qui constituent une part importante de la correspondance de Constance de Salm sont l'oeuvre de plusieurs scribes. La différence des écritures représente une difficulté certaine pour la reconnaissance automatique.\n",
    "\n",
    "## Sélectionner des spécimens de chaque écriture\n",
    "\n",
    "On crée dans le dossier de chaque main un dossier **test** contenant des spécimens d'écriture selon les critères suivants :\n",
    "- Reproductions de bonne qualité (sans problème de transparence)\n",
    "- 2 doubles pages environ\n",
    "- Choisies manière discontinue (l'écriture d'une même main peut en effet varier)\n",
    "\n",
    "Si certaines mains ne sont attestées qu'en compagnie d'autres écritures, on veillera à limiter le test de reconnaissance d'écriture aux seuls lignes de la main à tester (en supprimant après segmentation les lignes non pertinentes afin que la reconnaissance de l'écriture ne les traite pas).\n",
    "\n",
    "\n",
    "## Créer des vérités de terrain pour chaque spécimen\n",
    "\n",
    "On procède à la constitution d'une vérité de terrain pour chaque spécimen. Pour cela, il n'est pas nécessaire d'annoter les régions d'écriture dans le cadre de la segmentation de la page (comme expliqué dans le notebook [suivant](./2_Realiser_une_prediction_HTR.ipynb)). On se contente d'une segmentation automatique, puis on transcrit les lignes manuellement.\n",
    "\n",
    "## Tester le modèle HTR\n",
    "\n",
    "### Installer l'application Kraken\n",
    "Depuis le dossier d'une main, lancer la commande suivante :"
   ]
  },
  {
   "cell_type": "code",
   "execution_count": null,
   "id": "00463836",
   "metadata": {},
   "outputs": [],
   "source": [
    "# ketos test -m ./source/modeles/NOM-MODEL.mlmodel source/NOM-MAIN/test/*xml -f alto\n",
    "!ketos test -m ./source/modeles/cdsMain1.mlmodel source/main1/test/*xml -f alto"
   ]
  }
 ],
 "metadata": {
  "kernelspec": {
   "display_name": "Python 3 (ipykernel)",
   "language": "python",
   "name": "python3"
  },
  "language_info": {
   "codemirror_mode": {
    "name": "ipython",
    "version": 3
   },
   "file_extension": ".py",
   "mimetype": "text/x-python",
   "name": "python",
   "nbconvert_exporter": "python",
   "pygments_lexer": "ipython3",
   "version": "3.8.10"
  }
 },
 "nbformat": 4,
 "nbformat_minor": 5
}
