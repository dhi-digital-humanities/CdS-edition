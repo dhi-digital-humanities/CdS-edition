{
 "cells": [
  {
   "cell_type": "markdown",
   "id": "11f252a3",
   "metadata": {},
   "source": [
    "Transformer un lot de fichiers ALTO en éditions TEI\n",
    "==========================================\n",
    "\n",
    "\n",
    "\n",
    "# Distribuer les fichiers dans une arborescence de dossiers\n",
    "\n",
    "Le script distributionFichiers.py va copier les fichiers de prédictions dans des dossiers portant l'identifiant de chaque lettre à éditer. Il ne crée de dossier que s'il dispose de toutes les prédictions nécessaires."
   ]
  },
  {
   "cell_type": "code",
   "execution_count": null,
   "id": "d2fa20ca",
   "metadata": {},
   "outputs": [],
   "source": [
    "# On crée le dossier data pour l'écriture des sorties\n",
    "!mkdir --parents ./data\n",
    "# On lance le script après avoir remplacé SOURCE par le nom du dossier\n",
    "python3 py/distributionFichiers.py SOURCE ./data/"
   ]
  },
  {
   "cell_type": "markdown",
   "id": "86143551",
   "metadata": {},
   "source": [
    "# Transformer les prédictions en fichier TEI\n",
    "\n",
    "On applique le script [build.py]()."
   ]
  },
  {
   "cell_type": "code",
   "execution_count": null,
   "id": "e1c514ad",
   "metadata": {},
   "outputs": [],
   "source": []
  }
 ],
 "metadata": {
  "kernelspec": {
   "display_name": "Python 3 (ipykernel)",
   "language": "python",
   "name": "python3"
  },
  "language_info": {
   "codemirror_mode": {
    "name": "ipython",
    "version": 3
   },
   "file_extension": ".py",
   "mimetype": "text/x-python",
   "name": "python",
   "nbconvert_exporter": "python",
   "pygments_lexer": "ipython3",
   "version": "3.8.10"
  }
 },
 "nbformat": 4,
 "nbformat_minor": 5
}
