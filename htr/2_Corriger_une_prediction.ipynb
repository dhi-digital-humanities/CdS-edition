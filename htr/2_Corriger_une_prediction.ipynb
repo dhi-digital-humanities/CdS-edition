{
 "cells": [
  {
   "cell_type": "markdown",
   "metadata": {},
   "source": [
    "Corriger une prédiction HTR\n",
    "===\n",
    "<br>\n",
    "D'après la démarche expliquée dans la documentation du projet DAHN, on procède selon les étapes suivantes."
   ]
  },
  {
   "cell_type": "markdown",
   "metadata": {},
   "source": [
    "On privilégie le format XML-Page pour exporter et réimporter les prédictions HTR dans le logiciel de transcription."
   ]
  },
  {
   "cell_type": "code",
   "execution_count": 1,
   "metadata": {},
   "outputs": [
    {
     "name": "stdout",
     "output_type": "stream",
     "text": [
      "On place les prédictions HTR dans le dossier : ./xmlPage-aCorriger/\n"
     ]
    }
   ],
   "source": [
    "from py.constantes import XMLaCORRIGER, XMLCORRIGEES\n",
    "print(f\"On place les prédictions HTR dans le dossier : {XMLaCORRIGER}\")"
   ]
  },
  {
   "cell_type": "markdown",
   "metadata": {},
   "source": [
    "# Analyser le contenu de la prédiction\n",
    "\n",
    "Exécuter le script **spellcheck_texts_PAGEXML.py**, qui analyse chaque mot des prédictions HTR et génère pour chaque fichier XML à corriger un dictionnaire au format Json contenant des propositions de corrections : "
   ]
  },
  {
   "cell_type": "code",
   "execution_count": 22,
   "metadata": {},
   "outputs": [
    {
     "name": "stdout",
     "output_type": "stream",
     "text": [
      "Le fichier ./xmlPage-aCorriger/CdS02_Konv002-03_0056.xml est en cours de lecture.\n",
      "=> Le dictionnaire ./py/dicos/page_CdS02_Konv002-03_0056.json a été écrit correctement.\n",
      "\n"
     ]
    }
   ],
   "source": [
    "!python3 py/spellcheckTexts.py"
   ]
  },
  {
   "cell_type": "markdown",
   "metadata": {},
   "source": [
    "# Corriger les dictionnaires de pages\n",
    "\n",
    "Corriger à la main les entrées du dictionnaire de chacun des fichiers commençant par \"page\" générés dans le dossier [dicos/](py/dicos/).\n",
    "\n",
    "**Attention** : il faut bien veiller à…\n",
    "- **Ne pas transformer de mots qui seraient justes dans un autre contexte** (comme le mot **\"tout\"** dans l'exemple suivant, qui ne doit pas être corrigé en \"août\" bien que le contexte s'y prête, au risque de modifier des \"tout\" pertinents dans leur propre contexte)\n",
    "\n",
    "- **Éliminer les propositions de lemmes erronées**, en modifiant le lemme comme \"null\" (**\"Paris\"** ne doit pas être corrigé en \"pris\" dans l'exemple suivant)\n",
    "\n",
    "Il n'est pas nécessaire de transformer les mots justes dont le lemme est indiqué comme \"null\", car ils seront intégrés au réservoir des mots connus dès leurs prochaine rencontre (ici l'exemple de **\"homme\"**).\n",
    "\n",
    "```json\n",
    "{\n",
    "    \"tout\": {\n",
    "      \"lem\": null,\n",
    "      \"ctxt\": \"Dyck, ce 3 TOUT 1818\"\n",
    "   },\n",
    "    \"Paris\": {\n",
    "      \"lem\": \"pris\",\n",
    "      \"ctxt\": \"c est qu il retournera à PARIS dans le mois\"\n",
    "   },\n",
    "    \"homme\": {\n",
    "      \"lem\": null,\n",
    "      \"ctxt\": \"que ce brave HOMME se rétablisse\"\n",
    "   },\n",
    "}\n",
    "```\n",
    "\n",
    "Les **patronymes** représentent une difficulté importante de la transcription. Ils ont par bonheur été déjà identifiés. On se reportera donc aux notices du site web. On se reportera aux [outils du dossier donnees/](https://github.com/sbiay/CdS-edition/tree/main/donnees#outils), et plus particulièrement au [notebook](https://github.com/sbiay/CdS-edition/blob/main/donnees/Obtenir_metadonnees_images.ipynb) dédié à la récupération des liens vers les notices de l'inventaire à partir d'un nom de fichier image.\n",
    "\n",
    "D'une façon générale, il est peu efficace de proposer des corrections pour les mots brefs et rencontrés dans **les passages les plus cursifs** (bouts de lignes, date, expéditeur) : la pércision de la reconnaissance y est faible, et plus un mot et bref plus la correction pose de problèmes d'ambiguïté.\n",
    "\n",
    "A l'inverse, il n'est pas gênant de proposer des corrections pour les mots très mal prédits, longs, coupés par une espace. L'intérêt d'inscrire cette correction dans le dictionnaire est limité, car la probabilité de recroiser la même forme est à peu près nulle, mais le risque d'ambiguïté est tout aussi faible : autant appliquer la correction dès le stade de la validation du dictionnaire de page plutôt que d'attendre de la recroiser à la relecture finale."
   ]
  },
  {
   "cell_type": "markdown",
   "metadata": {},
   "source": [
    "# Enrichir le dictionnaire du projet\n",
    "\n",
    "Une fois cette tâche accomplie, on applique le script [integrationDicts.py](./py/integrationDicts.py). Voyons dans un premier temps son rôle et les options qu'il propose :"
   ]
  },
  {
   "cell_type": "code",
   "execution_count": 1,
   "metadata": {},
   "outputs": [
    {
     "name": "stdout",
     "output_type": "stream",
     "text": [
      "Usage: integrationDicts.py [OPTIONS]\r\n",
      "\r\n",
      "  Ce script prend comme paramètres une source consistant en un fichier Json\r\n",
      "  d'entrée contenu dans le dossier dicos le compare au contenu de\r\n",
      "  correctionsCDS.json, intègre les entrées nouvelles et retourne des\r\n",
      "  messages d'alertes pour les entrées générant un conflit d'intégration.\r\n",
      "  :param fichierdictpages: fichier Json issu de la correction automatisée\r\n",
      "  d'une page de transcription :type fichierdictpages: Json :returns: None\r\n",
      "\r\n",
      "Options:\r\n",
      "  -f, --file TEXT  Nom de fichier contenu dans le dossier ./py/dicos/\r\n",
      "  -A, --all        Prend tous les fichiers du dossier ./py/dicos/\r\n",
      "  --help           Show this message and exit.\r\n"
     ]
    }
   ],
   "source": [
    "!python3 py/integrationDicts.py --help"
   ]
  },
  {
   "cell_type": "code",
   "execution_count": 23,
   "metadata": {},
   "outputs": [
    {
     "name": "stdout",
     "output_type": "stream",
     "text": [
      "Traitement du fichier page_CdS02_Konv002-03_0056.json\r\n",
      "\r\n",
      "=> Le dictionnaire correctionsCDS.json est désormais à jour.\r\n"
     ]
    }
   ],
   "source": [
    "# Ajouter l'option qui convient et relancer le script\n",
    "!python3 py/integrationDicts.py -A"
   ]
  },
  {
   "cell_type": "markdown",
   "metadata": {},
   "source": [
    "Si des problèmes d'ambiguïté ont été signalés, on doit les corriger à la main dans les dictionnaires. Deux cas se présentent :\n",
    "- Si l'on souhaite faire prévaloir la correction proposée dans le dictionnaire complet de la correspondance [correctionsCDS.json](./py/dicos/correctionsCDS.json), on inscrit \"null\" comme lemme dans le dictionaire de la page\n",
    "- Si l'on considère qu'il ne faut plus proposer de correction pour la forme signalée, qu'elle doit être considérée comme ambiguë, on inscrit \"null\" comme lemme dans le dictionaire de la page **et aussi** comme lemme de la forme dans le [correctionsCDS.json](./py/dicos/correctionsCDS.json).\n",
    "\n",
    "On relance le script après chaque correction que l'on effectue."
   ]
  },
  {
   "cell_type": "markdown",
   "metadata": {},
   "source": [
    "# Appliquer le dictionnaire du projet aux fichiers XML\n",
    "\n",
    "On procède grâce au script [text_correction_XML.py](./py/text_correction_XML.py) :"
   ]
  },
  {
   "cell_type": "code",
   "execution_count": 24,
   "metadata": {},
   "outputs": [
    {
     "name": "stdout",
     "output_type": "stream",
     "text": [
      "Le fichier CdS02_Konv002-03_0056.xml a été corrigé avec succès\r\n"
     ]
    }
   ],
   "source": [
    "!python3 py/textCorrection.py"
   ]
  },
  {
   "cell_type": "markdown",
   "metadata": {},
   "source": [
    "On finalise le processus de correction avec les étapes suivantes :\n",
    "1. Réimporter les fichiers corrigés dans eScriptorium ;\n",
    "2. Finaliser manuellement la correction des transcriptions ;\n",
    "3. Télécharger la verité de terrain pour la sauvegarder au format XML-Alto."
   ]
  },
  {
   "cell_type": "code",
   "execution_count": null,
   "metadata": {},
   "outputs": [],
   "source": [
    "print(f\"On place les vérités de terrain dans le dossier : {XMLCORRIGEES}\")"
   ]
  }
 ],
 "metadata": {
  "kernelspec": {
   "display_name": "Python 3 (ipykernel)",
   "language": "python",
   "name": "python3"
  },
  "language_info": {
   "codemirror_mode": {
    "name": "ipython",
    "version": 3
   },
   "file_extension": ".py",
   "mimetype": "text/x-python",
   "name": "python",
   "nbconvert_exporter": "python",
   "pygments_lexer": "ipython3",
   "version": "3.8.10"
  }
 },
 "nbformat": 4,
 "nbformat_minor": 2
}
