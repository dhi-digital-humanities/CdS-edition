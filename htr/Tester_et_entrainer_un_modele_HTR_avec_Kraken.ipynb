{
 "cells": [
  {
   "cell_type": "markdown",
   "id": "9e86aad1",
   "metadata": {
    "pycharm": {
     "name": "#%% md\n"
    }
   },
   "source": [
    "Tester et entraîner un modèle de reconnaissance d'écriture\n",
    "===\n",
    "<br>\n",
    "\n",
    "Les dossiers qui constituent l'archive de la correspondance de Constance de Salm réunissent des documents écrits par plusieurs scribes. La différence des écritures représente une difficulté certaine pour la reconnaissance automatique. Ce *notebook* explique comment procéder à la reconnaissance automatique de l'écriture dans ce contexte particulier.\n",
    "\n",
    "# Classer les images par mains\n",
    "\n",
    "Inventorier toutes les mains attestées dans une source n'est pas toujours aisé. L'objectif reste avant tout de **repérer les mains principales** : celles attestées sur le plus grand nombre de pages. Une main qui ne serait attestée que sur une dizaine de pages ne mériterait pas d'être classée, car entraîner un modèle de reconnaissance d'écriture pour un petit nombre de pages serait une perte de temps.\n",
    "\n",
    "Voici un modèle d'arborescence pour le rangement des fichiers et le nommage des dossiers. Il convient de copier les fichiers correspondant à chaque main identifiée dans un dossier propre, **sans supprimer du dossier img-complet/** ces fichiers lors de leur copie :\n",
    "\n",
    "```txt\n",
    ".\n",
    "└── entrainements\n",
    "    ├── img-complet\n",
    "    │   ├── CdS02_Konv019_0011.jpg\n",
    "    │   ├── CdS02_Konv019_0012.jpg\n",
    "    │   ├── CdS02_Konv019_0013.jpg\n",
    "    │   ├── …\n",
    "    │   ├── CdS02_Konv019_0033.jpg\n",
    "    │   ├── CdS02_Konv019_0037.jpg\n",
    "    │   ├── CdS02_Konv019_0039.jpg\n",
    "    │   └── …\n",
    "    │\n",
    "    ├── mainCdS02_Konv019_01\n",
    "    │   ├── CdS02_Konv019_0011.jpg\n",
    "    │   ├── CdS02_Konv019_0012.jpg\n",
    "    │   ├── CdS02_Konv019_0013.jpg\n",
    "    │   └── …\n",
    "    │\n",
    "    └── mainCdS02_Konv019_02\n",
    "        ├── CdS02_Konv019_0033.jpg\n",
    "        ├── CdS02_Konv019_0037.jpg\n",
    "        ├── CdS02_Konv019_0039.jpg\n",
    "        └── …\n",
    "```"
   ]
  },
  {
   "cell_type": "markdown",
   "id": "0dc29c3a",
   "metadata": {},
   "source": [
    "Il est important qu'aucune image ne soit placée dans deux dossiers de main différents, même si les deux mains en questions sont toutes deux attestées dans l'image. Le script suivant permet de retourner la **liste des doublons éventuels** :"
   ]
  },
  {
   "cell_type": "code",
   "execution_count": null,
   "id": "e7a8cbb5",
   "metadata": {},
   "outputs": [],
   "source": [
    "import os\n",
    "\n",
    "# On initie un dictionnaire pour la récupération des noms de fichiers et de leur racine\n",
    "dictFichiers = {}\n",
    "\n",
    "# On analyse l'arborescence courante\n",
    "for racine, dossiers, fichiers in os.walk(\"./entrainements/\"):\n",
    "    # On boucle sur les fichiers\n",
    "    for fichier in fichiers:\n",
    "        # On ne sélectionne que les fichiers .jpg et les fichiers rangés dans des dossiers de main\n",
    "        if fichier[-3:] == \"jpg\" and racine[:20] == \"./entrainements/main\":\n",
    "            # Si le fichier est absent du dictionnaire, on l'ajoute\n",
    "            if not dictFichiers.get(fichier):\n",
    "                dictFichiers[fichier] = [racine]\n",
    "            # Si le fichier est présent dans le dictionnaire, on ajoute sa racine à la liste des valeurs\n",
    "            else:\n",
    "                dictFichiers[fichier].append(racine)\n",
    "    \n",
    "# On initie un booléen pour confirmer l'absence de doulon\n",
    "doublons = False\n",
    "\n",
    "# Pour rechercher les doublons, on boucle sur les entrées du dictionnaire\n",
    "for fichier in dictFichiers:\n",
    "    # Si le nom du fichier est associé à une liste de plus de 1 racine\n",
    "    if len(dictFichiers[fichier]) > 1:\n",
    "        doublons = True\n",
    "        # On retourne alors un message d'alerte\n",
    "        print(f\"Le fichier {fichier} est doublonné :\")\n",
    "        for racine in dictFichiers[fichier]:\n",
    "            print(f\"{racine}/{fichier}\")\n",
    "\n",
    "# On retourne un message si aucun doublon n'a été trouvé\n",
    "if not doublons:\n",
    "    print(\"Bravo ! Aucun doublon n'a été trouvé.\")"
   ]
  },
  {
   "cell_type": "markdown",
   "id": "4cc12aad",
   "metadata": {
    "pycharm": {
     "name": "#%% md\n"
    }
   },
   "source": [
    "S'il existe des doublons, il est important de **les supprimer**. On peut le faire automatiquement grâce à la commande suivante, qui va supprimer arbitrairement la première occurrence :"
   ]
  },
  {
   "cell_type": "code",
   "execution_count": null,
   "id": "0ca91e29",
   "metadata": {},
   "outputs": [],
   "source": [
    "# On boucle sur les entrées du dictionnaire\n",
    "for fichier in dictFichiers:\n",
    "    # Si le nom du fichier est associé à une liste de plus de 1 racine\n",
    "    if len(dictFichiers[fichier]) > 1:\n",
    "        # On supprime le premier de la liste\n",
    "        !rm {dictFichiers[fichier][0]}/{fichier}"
   ]
  },
  {
   "cell_type": "markdown",
   "id": "76f9832e",
   "metadata": {
    "pycharm": {
     "name": "#%% md\n"
    }
   },
   "source": [
    "# Créer un échantillon-test de chaque écriture\n",
    "\n",
    "Afin de pouvoir tester un ou plusieurs modèles, il est nécessaire de constituer une vérité de terrain de 2-3 doubles pages (selon la densité d'écriture qu'elles contiennent).\n",
    "\n",
    "## Critères de sélection\n",
    "\n",
    "On crée dans le dossier de chaque main un dossier **test/** contenant des spécimens d'écriture selon les critères suivants :\n",
    "- Reproductions de bonne qualité (sans problème de transparence)\n",
    "- Pages choisies de manière discontinue (l'écriture d'une même main peut en effet varier et il est utile de prendre en compte cette variété pour le test)\n",
    "\n",
    "Si certaines mains ne sont attestées qu'en compagnie d'autres écritures, on veillera à limiter le test de reconnaissance d'écriture aux seuls lignes de la main à tester (voir *infra*).\n",
    "\n",
    "## Organisation des fichiers\n",
    "\n",
    "Voici un modèle d'arborescence pour le rangement et le nommage des fichiers et dossiers. Il est important de **déplacer les fichiers-images** choisis vers le dossier test/ et non **pas les copier** :\n",
    "```txt\n",
    ".\n",
    "└── entrainements\n",
    "    ├── img-complet\n",
    "    │   ├── CdS02_Konv019_0011.jpg\n",
    "    │   ├── CdS02_Konv019_0012.jpg\n",
    "    │   ├── CdS02_Konv019_0013.jpg\n",
    "    │   ├── …\n",
    "    │   ├── CdS02_Konv019_0033.jpg\n",
    "    │   ├── CdS02_Konv019_0037.jpg\n",
    "    │   ├── CdS02_Konv019_0039.jpg\n",
    "    │   └── …\n",
    "    │\n",
    "    ├── mainCdS02_Konv019_01\n",
    "    │   ├── CdS02_Konv019_0013.jpg\n",
    "    │   ├── …\n",
    "    │   ├── test\n",
    "    │   │   ├── CdS02_Konv019_0011.jpg\n",
    "    │   │   └── CdS02_Konv019_0012.jpg\n",
    "    │   └── train\n",
    "    │\n",
    "    └── mainCdS02_Konv019_02\n",
    "        ├── CdS02_Konv019_0039.jpg\n",
    "        ├── …\n",
    "        ├── test\n",
    "        │   ├── CdS02_Konv019_0033.jpg\n",
    "        │   └── CdS02_Konv019_0037.jpg\n",
    "        └── train\n",
    "```"
   ]
  },
  {
   "cell_type": "markdown",
   "id": "1f24fbc6",
   "metadata": {
    "pycharm": {
     "name": "#%% md\n"
    }
   },
   "source": [
    "## Segmenter et annoter les pages\n",
    "\n",
    "On se reporte pour cela au [notebook dédié](./Segmenter_et_annoter_une_page.ipynb).\n",
    "\n",
    "## Transcrire\n",
    "\n",
    "Constituer un spécimen de test ou une collection d'entraînement suppose de ne travailler que **sur une seule main**, en choisissant soigneusement des pages où une seule main est attestée. Mais si l'on a été obligé de prendre une page où plusieurs mains sont attestées, il faut **veiller à ne pas transcrire les parties d'une page dont l'écriture ne serait pas l'objet du test**.\n",
    "\n",
    "### Suivre les règles de transcription\n",
    "\n",
    "On suit de manière rigoureuse les préconisations pour la transcription énoncées dans la [documentation analytique](https://github.com/sbiay/CdS-edition/blob/main/documentation/documentation.pdf) (cf. annexe Normes de transcription).\n",
    "\n",
    "### Exporter au format XML-Alto\n",
    "\n",
    "Si l'on transcrit les pages sous e-Scriptorium, on peut se référer au tutoriel Lectaurep pour [exporter les fichiers](https://lectaurep.hypotheses.org/documentation/prendre-en-main-escriptorium#export) une fois le travail fini.\n",
    "\n",
    "### Ranger les fichiers Alto\n",
    "\n",
    "On place les transcriptions au format Alto avec les images classées dans l'arborescence :\n",
    "\n",
    "```txt\n",
    ".\n",
    "└── entrainements\n",
    "    ├── img-complet\n",
    "    │   └── …\n",
    "    │\n",
    "    ├── mainCdS02_Konv019_01\n",
    "    │   ├── CdS02_Konv019_0013.jpg\n",
    "    │   ├── …\n",
    "    │   ├── test\n",
    "    │   │   ├── CdS02_Konv019_0011.jpg\n",
    "    │   │   ├── CdS02_Konv019_0011.xml <=\n",
    "    │   │   ├── CdS02_Konv019_0011.jpg\n",
    "    │   │   └── CdS02_Konv019_0012.xml <=\n",
    "    │   └── train\n",
    "    │\n",
    "    └── mainCdS02_Konv019_02\n",
    "        ├── CdS02_Konv019_0039.jpg\n",
    "        ├── …\n",
    "        ├── test\n",
    "        │   ├── CdS02_Konv019_0033.jpg\n",
    "        │   ├── CdS02_Konv019_0033.xml <=\n",
    "        │   ├── CdS02_Konv019_0037.jpg\n",
    "        │   └── CdS02_Konv019_0037.xml <=\n",
    "        └── train\n",
    "```\n",
    "\n",
    "## Éliminer les lignes parasites\n",
    "\n",
    "Si une page comporte des lignes vides (c'est le cas si plusieurs écritures sont attestées sur la même page, on ne transcrit que l'écriture à tester), le script [supprLignesVides.py](https://github.com/sbiay/CdS-edition/blob/main/htr/py/supprLignesVides.py) permet de les éliminer :"
   ]
  },
  {
   "cell_type": "code",
   "execution_count": null,
   "id": "2185ec45",
   "metadata": {},
   "outputs": [],
   "source": [
    "!python3 py/supprLignesVides.py CHEMIN-DE-FICHIER"
   ]
  },
  {
   "cell_type": "markdown",
   "id": "a88ef9e2",
   "metadata": {
    "pycharm": {
     "name": "#%% md\n"
    }
   },
   "source": [
    "# Tester des modèles HTR\n",
    "\n",
    "## Installer l'application Kraken\n",
    "\n",
    "On recommande pour tester un modèle d'utiliser l'application Kraken en ligne de commande, disponible pour Linux et Mac OSX (non pour Windows). Les instructions sont consultables [ici](https://github.com/mittagessen/kraken#installation).\n",
    "\n",
    "## Importer un modèle\n",
    "\n",
    "Les modèles extérieurs au projet que l'on a utilisés sont téléchargeables sur le [Gitlab du laboratoire Inria](https://gitlab.inria.fr/dh-projects/kraken-models/-/tree/master/transcription%20models) :\n",
    "- **generic_lectaurep_26.mlmodel** : modèle mixte, entraîné *from scratch* à partir d'une variété d'écritures administratives du XIXe siècle (LECTAUREP)\n",
    "- **cm_ft_mrs15_11.mlmodel** : entraîné en affinant (44 pages) sur les contrats de mariage le modèle **mixte_mrs_15**, lui -même entraîné *from scratch* à partir d'une varété d'écritures administratives du XIXe siècle (LECTAUREP)\n",
    "\n",
    "Les modèles propres au projet sont :\n",
    "- **souvay.mlmodel** : entraîné *from scratch* à partir d'un petit nombre de vérités de terrain [source](https://github.com/dhi-digital-humanities/constance-de-salm/blob/main/HTR/Training%20Models/CdS02_Konv002-02-03/Models/model_best.mlmodel)\n",
    "- **cds_lectcm_04_mains_01.mlmodel** : entraîné en affinant (40ne de pages) à partir du modèle **cm_ft_mrs15_11.mlmodel**\n",
    "\n",
    "Lors du traitement d'une nouvelle source, il est recommandé de partir du modèle cds_lectcm_*.mlmodel entraîné sur le nombre de \"mains\" le plus élevé.\n",
    "\n",
    "\n",
    "## Initier un journal de tests\n",
    "\n",
    "Le script [journalReconn.py](./py/journalReconn.py) permet de pré-remplir un journal pour l'enregistrement des résultats des tests effectués sur les modèles. \n",
    "\n",
    "On lui donne comme argument un nom de modèle et il écrit dans le fichier Json [journal-rec.json](./entrainements/journal-rec.json) :\n",
    "- A la date et à l'heure courante…\n",
    "- Pour chaque main possédant un dossier dans l'arborescence de fichiers (./entrainements/main*/)…\n",
    "- Les noms de ces mains…\n",
    "- Et prépare le renseignement des valeurs de test.\n",
    "\n",
    "Conseils d'utilisation :\n",
    "- Paramètre MODELE : obligatoire ; renseigner un **nom de modèle** plutôt que son chemin relatif ou absolu\n",
    "- Option -n, --no-ground-truth : le test initial se fait avec cette option, sans avoir entraîné le modèle sur les vérités de terrain\n",
    "- Option -i, --ignore : pour ignorer une main (prend comme argument le nom de son dossier)"
   ]
  },
  {
   "cell_type": "code",
   "execution_count": null,
   "id": "27cedf77",
   "metadata": {
    "pycharm": {
     "name": "#%%\n"
    }
   },
   "outputs": [],
   "source": [
    "# python3 py/journalReconn.py MODELE -n (pour un test initial sans entraînement)\n",
    "!python3 py/journalReconn.py cds_lectcm_04_mains_01.mlmodel -n"
   ]
  },
  {
   "cell_type": "markdown",
   "id": "3c477313",
   "metadata": {
    "pycharm": {
     "name": "#%% md\n"
    }
   },
   "source": [
    "Le contenu écrit dans le fichier journal donne comme **accuracy** pour chaque main une valeur de 0. Cette valeur doit être saisie manuellement dans le fichier une fois effectué le test comme suit.\n",
    "\n",
    "\n",
    "## Effectuer un test\n",
    "\n",
    "Avec la commande suivante on effectue un test d'acuité pour un modèle sur une main particulière (on doit relever l'*Average accuracy*) :"
   ]
  },
  {
   "cell_type": "code",
   "execution_count": null,
   "id": "ac80ca8c",
   "metadata": {
    "pycharm": {
     "name": "#%%\n"
    }
   },
   "outputs": [],
   "source": [
    "# ketos test -m ./entrainements/modeles-rec/NOM-MODEL.mlmodel ./entrainements/NOM-MAIN/test/*xml -f alto\n",
    "!ketos test -m ./entrainements/modeles-rec/cm_ft_mrs15_11.mlmodel ./entrainements/mainCdS02_Konv019_02/test/*xml -f alto"
   ]
  },
  {
   "cell_type": "markdown",
   "id": "504bbdb9",
   "metadata": {
    "pycharm": {
     "name": "#%% md\n"
    }
   },
   "source": [
    "Il convient de choisir le modèle présentant **les meilleurs résultats pour l'ensemble des écritures testées**. Si le meilleur modèle n'atteint pas 90% pour tout ou partie des mains, il convient de l'entraîner par l'apport de vérités de terrain pour chaque main n'atteignant pas ce score.\n",
    "\n",
    "# Entraîner un modèle\n",
    "\n",
    "## Principe général\n",
    "\n",
    "L'entraînement d'un modèle multi-main consiste à constituer une vérité de terrain pour chaque main concernée et à **entraîner un modèle sur l'ensemble** de ces vérités de terrain réunies.\n",
    "\n",
    "## Constituer des collections d'entraînement\n",
    "\n",
    "On procède à la constitution d'une vérité de terrain pour chaque spécimen d'écriture. Il s'agit de transcrire l'**équivalent d'une dizaine de pages simples** : si les pages présentent des blancs importants ou d'autres écritures étrangères à l'entraînement (elles ne doivent pas être transcrites) on augmentera le nombre de pages pour parvenir grosso modo à ce volume de 10 pages simples.\n",
    "\n",
    "La transcription de ces pages se fait à la main, sans l'aide d'une première reconnaissance de l'écriture, car il est plus compliqué de corriger une mauvaise prédiction que de transcrire manuellement. On reprend pour cela la [démarche](http://localhost:8888/notebooks/Tester_et_entrainer_un_modele_HTR_avec_Kraken.ipynb#Cr%C3%A9er-un-%C3%A9chantillon-test-de-chaque-%C3%A9criture) énoncée plus haut pour la création d'un échantillon test.\n",
    "\n",
    "## Lancer l'entraînement\n",
    "\n",
    "Une fois les collections d'entraînement de chaque main, on écrit dans un fichier dédié les chemins de fichiers des vérités de terrain sur lesquelles l'entraînement doit s'appuyer (i.e. tous les fichiers XML contenus dans les dossiers **train/**) :"
   ]
  },
  {
   "cell_type": "code",
   "execution_count": null,
   "id": "a0452013",
   "metadata": {
    "pycharm": {
     "name": "#%%\n"
    }
   },
   "outputs": [],
   "source": [
    "# On écrit la liste des chemins de fichiers\n",
    "!find -wholename */train/*xml > train.txt\n",
    "\n",
    "# On crée un dossier de sortie pour le modèle entraîné\n",
    "!mkdir --parents ./entrainements/modeles-rec/out/\n",
    "\n",
    "# La commande suivante entraîne le modèle cm_ft_mrs15_11.mlmodel\n",
    "!ketos train -r 0.0001 --lag 20  -s '[1,120,0,1 Cr3,13,32 Do0.1,2 Mp2,2 Cr3,13,32 Do0.1,2 Mp2,2 Cr3,9,64 Do0.1,2 Mp2,2 Cr3,9,64 Do0.1,2 S1(1x0)1,3 Lbx200 Do0.1,2 Lbx200 Do.1,2 Lbx200 Do]' --augment --device cpu --resize add -i ./entrainements/modeles-rec/cm_ft_mrs15_11.mlmodel -t ./entrainements/train.txt -f alto --output --output ./entrainements/modeles-rec/out/"
   ]
  },
  {
   "cell_type": "markdown",
   "id": "9660d2b1",
   "metadata": {
    "pycharm": {
     "name": "#%% md\n"
    }
   },
   "source": [
    "## Tester le nouveau modèle\n",
    "\n",
    "Une fois le modèle entraîné, on renouvelle la procédure de test expliquée ci-dessus.\n",
    "\n",
    "En résumé on initie les résultats dans le journal d'entraînement :"
   ]
  },
  {
   "cell_type": "code",
   "execution_count": null,
   "id": "a49343a4",
   "metadata": {},
   "outputs": [],
   "source": [
    "!python3 py/journalReconn.py MODELE"
   ]
  },
  {
   "cell_type": "markdown",
   "id": "bc2654f9",
   "metadata": {},
   "source": [
    "On teste le modèle sur les différentes mains :"
   ]
  },
  {
   "cell_type": "code",
   "execution_count": null,
   "id": "caf931b6",
   "metadata": {},
   "outputs": [],
   "source": [
    "# ketos test -m ./entrainements/modeles-rec/NOM-MODEL.mlmodel ./entrainements/NOM-MAIN/test/*xml -f alto\n",
    "!ketos test -m ./entrainements/modeles-rec/cm_ft_mrs15_11.mlmodel ./entrainements/mainCdS02_Konv019_02/test/*xml -f alto"
   ]
  },
  {
   "cell_type": "markdown",
   "id": "9f9cf563",
   "metadata": {
    "pycharm": {
     "name": "#%% md\n"
    }
   },
   "source": [
    "On complète manuellement le journal d'entraînement avec les valeurs d'*accuracy*.\n",
    "\n",
    "### En cas de résultat insatisfaisant\n",
    "\n",
    "**Si certaines mains ont toujours un score inférieur à 90%**, on réitère la procédure d'entraînement en apportant 5 nouvelles pages pour chaque main n'atteignant pas le score souhaité.\n",
    "\n",
    "On repart du **modèle de départ** du précédent entraînement et non du modèle de sortie : en somme, l'entraînement doit repartir de 0.\n",
    "\n",
    "### En cas de résultat satisfaisant\n",
    "\n",
    "On copie l'ensemble des fichiers d'entraînement dans un dossier dédié aux vérités de terrain du projet et les fichiers de test dans un dossier distinct :"
   ]
  },
  {
   "cell_type": "code",
   "execution_count": null,
   "id": "ffaa5c30",
   "metadata": {},
   "outputs": [],
   "source": [
    "!mkdir --parents ./verite-terrain/\n",
    "!find -wholename \"*/train/*\" | xargs -I '{}' cp '{}' ./verite-terrain/\n",
    "!mkdir --parents ./test-rec/\n",
    "!find -wholename \"*/test/*\" | xargs -I '{}' cp '{}' ./test-rec/"
   ]
  },
  {
   "cell_type": "markdown",
   "id": "2f70a9b3",
   "metadata": {},
   "source": [
    "On rassemble les informations relatives aux mains attestées par ces vérités de terrain et ces tests au moyen du script suivant :"
   ]
  },
  {
   "cell_type": "code",
   "execution_count": null,
   "id": "b22adc37",
   "metadata": {},
   "outputs": [],
   "source": [
    "import json\n",
    "from py.constantes import TRAITNTENCOURS\n",
    "\n",
    "# On ouvre le fichier mains.json du dossier en cours de traitement\n",
    "with open(f\"{TRAITNTENCOURS}mains.json\") as jsonf:\n",
    "    traitnt = json.load(jsonf)\n",
    "\n",
    "# On récupère le contenu du fichier de synthèse des mains s'il existe\n",
    "with open(\"./mains/mains.json\") as jsonf:\n",
    "    synthese = json.load(jsonf)\n",
    "\n",
    "# On trie les mains par ordre alpha-numérique\n",
    "labelsMains = []\n",
    "for main in traitnt:\n",
    "    labelsMains.append(main)\n",
    "tri = sorted(labelsMains)\n",
    "\n",
    "# On boucle sur chaque main du fichier du traitement courant\n",
    "for main in tri:\n",
    "    # Si la main n'existe pas encore dans la synthèse\n",
    "    if not synthese.get(main):\n",
    "        # On l'ajoute intégralement\n",
    "        synthese[main] = traitnt[main]\n",
    "    # Si la main existe dans la synthèse\n",
    "    else:\n",
    "        # On boucle sur chaque type de fichier\n",
    "        for type in traitnt[main]:\n",
    "            # On boucle sur chaque fichier du traitement en cours\n",
    "            for fichier in traitnt[main][type]:\n",
    "                # Si le fichier du traitement en cours est présent dans la synthèse\n",
    "                if fichier not in synthese[main][type]:\n",
    "                    # on l'ajoute à la liste des fichiers de la synthèse\n",
    "                    synthese[main][type].append(fichier)\n",
    "\n",
    "# On écrit une nouvelle version du fichier de synthèse\n",
    "with open(\"./mains/mains.json\", mode=\"w\") as jsonf:\n",
    "    json.dump(synthese, jsonf, indent=3)\n",
    "    print(f\"Le fichier ./mains/mains.json a été correctement enrichi.\")"
   ]
  },
  {
   "cell_type": "markdown",
   "id": "0b2a6c2f",
   "metadata": {},
   "source": [
    "On renomme le **meilleur modèle** à partir de la suggestion de nommage (`label_output`) indiquée dans le fichier **journal-rec.json** du traitement en cours et on le place dans le dossier **./modeles-rec**\n",
    "\n",
    "# Effectuer la prédiction\n",
    "\n",
    "On [importe le nouveau modèle dans e-Scriptorium](https://lectaurep.hypotheses.org/documentation/prendre-en-main-escriptorium#import_model), puis on lance la prédiction à l'aide de celui-ci.\n",
    "\n",
    "Une fois la prédiction terminée, on sélectionne l'ensemble du dossier et on l'exporte au format Alto, sans inclure les images, en sélectionnant bien le contenu textuel produit par le modèle de reconnaissance utilisé.\n",
    "\n",
    "On place les prédictions dans le dossier dédié, que la commande suivante permet de créer s'il n'existe pas déjà :"
   ]
  },
  {
   "cell_type": "code",
   "execution_count": null,
   "id": "0d5bc1cc",
   "metadata": {},
   "outputs": [],
   "source": [
    "from py.constantes import XMLaCORRIGER\n",
    "# Si le dossier n'a pas encore été créé, on peut lancer la commande suivante pour le faire\n",
    "!mkdir --parents {XMLaCORRIGER}\n",
    "\n",
    "print(f\"Le dossier {XMLaCORRIGER} est prêt à recevoir les prédictions.\")"
   ]
  },
  {
   "cell_type": "markdown",
   "id": "590b9b6d",
   "metadata": {},
   "source": [
    "Le script [injectTranscript.py](https://github.com/sbiay/CdS-edition/blob/main/htr/py/injectTranscript.py) permet de récupérer les transcriptions placées dans les dossiers **./test-rec/** et **./verite-terrain/** et de réinjecter leur contenu dans les prédictions que l'on vient d'exporter. On le lance par la commande suivante :"
   ]
  },
  {
   "cell_type": "code",
   "execution_count": null,
   "id": "73ca9f56",
   "metadata": {},
   "outputs": [],
   "source": [
    "!python3 py/injectTranscript.py"
   ]
  },
  {
   "cell_type": "markdown",
   "id": "639219e4",
   "metadata": {},
   "source": [
    "Une fois cette opération effectuée, on peut passer à la correction automatisée des prédictions, documentée dans le *notebook* [Corriger une prédiction HTR](./Corriger_une_prediction.ipynb)"
   ]
  }
 ],
 "metadata": {
  "kernelspec": {
   "display_name": "Python 3 (ipykernel)",
   "language": "python",
   "name": "python3"
  },
  "language_info": {
   "codemirror_mode": {
    "name": "ipython",
    "version": 3
   },
   "file_extension": ".py",
   "mimetype": "text/x-python",
   "name": "python",
   "nbconvert_exporter": "python",
   "pygments_lexer": "ipython3",
   "version": "3.8.10"
  }
 },
 "nbformat": 4,
 "nbformat_minor": 5
}
