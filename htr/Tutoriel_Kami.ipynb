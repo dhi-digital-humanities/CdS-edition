{
 "cells": [
  {
   "cell_type": "markdown",
   "metadata": {
    "id": "F0UDgm9MdZc9"
   },
   "source": [
    "# 🐙 Tutoriel pour l'utilisation de **Kami** (Kraken Model Inspector) \n",
    "<br>\n",
    "\n",
    "Ce tutoriel a été élaboré par **Lucas Terriel** (Inria - ALMAnaCH) et **Alix Chagué** (Inria - ALMAnaCH) et publié sur le dépôt du projet [Kami](https://gitlab.inria.fr/dh-projects/kami/kami-lib)  ([pour citer le projet](https://gitlab.inria.fr/dh-projects/kami/kami-lib/-/blob/master/CITATION.CFF)).\n",
    "\n",
    "Nous en avons simplifié l'écriture pour une utilisation exclusivement locale (le [tutoriel original](https://cutt.ly/WT3Ahx1) est publié sur Google Collab).\n",
    "\n",
    "Date de la version utilisée : 24/08/2021.\n",
    "\n",
    "\n",
    "## Introduction\n",
    "\n",
    "Ce notebook vise à présenter l'utilisation du *package* Python **Kami** à travers l'exemple d'une chaîne de traitement complète : import des données => résultats du modèle HTR/OCR => export des résultats en CSV \n",
    "\n"
   ]
  },
  {
   "cell_type": "markdown",
   "metadata": {
    "id": "20C1kmN1AQgZ"
   },
   "source": [
    "## Étape préliminaire : Installation du *package* Python Kami\n",
    "🚀 Lancer la cellule et attendre la fin de l'exécution. (Cela peut prendre un certain temps)\n",
    "\n",
    "⚠️ **N.B.** : *Ignorer les erreurs relatives à l'installation des packages scikit-learn, torch et torchtext, à la fin de l'éxecution de la cellule. (erreurs inhérentes à google colab, relancer la cellule les erreurs disparaissent)*"
   ]
  },
  {
   "cell_type": "code",
   "execution_count": null,
   "metadata": {
    "colab": {
     "base_uri": "https://localhost:8080/"
    },
    "id": "UqxLiKRv_d2N",
    "outputId": "18c001f9-347e-42b5-fe08-271da6fd1df3"
   },
   "outputs": [],
   "source": [
    "# vérification de la version Python utilisé \n",
    "!python --version\n",
    "# installation des packages nécéssaires\n",
    "!pip install kamilib\n",
    "#!pip install -i https://test.pypi.org/simple/ kamilib\n",
    "# lister vos dépendances en dé-commentant la ligne qui suit\n",
    "!pip freeze"
   ]
  },
  {
   "cell_type": "markdown",
   "metadata": {
    "id": "rCgvY90iAnjx"
   },
   "source": [
    "## Étape 1 : Importer les *packages* Python pour la chaîne de traitement\n",
    "\n",
    "🚀 Lancer la cellule.\n",
    "\n",
    "⚠️ **N.B** : *Ignorer les warnings de dépréciations ... (relancer la cellule pour les faire disparaître)*"
   ]
  },
  {
   "cell_type": "code",
   "execution_count": null,
   "metadata": {
    "colab": {
     "base_uri": "https://localhost:8080/"
    },
    "id": "mxaMpHG991GQ",
    "outputId": "83ad41cf-0302-4983-a813-3c4294b2a515"
   },
   "outputs": [],
   "source": [
    "import csv\n",
    "from datetime import datetime\n",
    "import io\n",
    "import pprint\n",
    "\n",
    "import pandas as pd\n",
    "\n",
    "from kami.Kami import Kami"
   ]
  },
  {
   "cell_type": "markdown",
   "metadata": {
    "id": "k9YvxuZ0QPCO"
   },
   "source": [
    "## Étape 2 : Tester le *package* Kami\n",
    "\n",
    "🚀 Lancer la cellule.\n",
    "\n",
    "✔️ **N.B** : *Si le code s'exécute avec succès, vous pouvez passer à la suite du notebook.*"
   ]
  },
  {
   "cell_type": "code",
   "execution_count": null,
   "metadata": {
    "colab": {
     "base_uri": "https://localhost:8080/"
    },
    "id": "p3Q_05NSA9Fh",
    "outputId": "68f7f75f-2716-4c8e-958b-e963f5263de8"
   },
   "outputs": [],
   "source": [
    "# deux phrases d'exemples\n",
    "ground_truth = \"1: J'aime Python comme langage de programmation !!\"\n",
    "hypothesis = \"2: J'adore python comme langage de développement web ?\"\n",
    "\n",
    "# Appel de la classe\n",
    "k = Kami([ground_truth, hypothesis], verbosity=False, truncate=True, percent=True, round_digits='0.01')\n",
    "\n",
    "# Affichage des phrases d'exemples\n",
    "reference = k.reference\n",
    "prediction = k.prediction\n",
    "\n",
    "\n",
    "print(\"--------------------\")\n",
    "print(reference)\n",
    "print(\"--------------------\")\n",
    "print(prediction)\n",
    "print(\"--------------------\")\n",
    "\n",
    "pprint.pprint(k.scores.board)"
   ]
  },
  {
   "cell_type": "markdown",
   "metadata": {
    "id": "e0uEIwd-Qkv4"
   },
   "source": [
    "## Étape 3 : Importer les données (image, vérité terrain, et modèle HTR/OCR Kraken)\n",
    "\n",
    "⚠️ Attention, si vous redémaré le noyau du notebook, vos données disparaissent, il est nécéssaire de les importer à nouveau.\n"
   ]
  },
  {
   "cell_type": "markdown",
   "metadata": {
    "id": "fA6RCtkG9tyP"
   },
   "source": [
    "On indiquer le chemin vers les données :"
   ]
  },
  {
   "cell_type": "code",
   "execution_count": null,
   "metadata": {
    "id": "xV52gNKL_SVW"
   },
   "outputs": [],
   "source": [
    "# ground_truth est un chemin vers un fichier de test (éviter un fichier d'entraînement)\n",
    "ground_truth = \"../entrainements/veriteTerrain/CdS02_Konv019_0005.xml\"\n",
    "# image est le chemin vers l'image associée au précédent fichier\n",
    "image = \"../entrainements/veriteTerrain/CdS02_Konv019_0005.jpg\"\n",
    "\n",
    "model = \"../entrainements/modeles-rec/souvay.mlmodel\""
   ]
  },
  {
   "cell_type": "markdown",
   "metadata": {
    "id": "bVYzbbE5BE-e"
   },
   "source": [
    "## Étape 4 : Configuration des paramètres d'évaluation (optionnelle)\n",
    "\n",
    "Vous pouvez ignorer cette étape en utilisant les paramètres par défaut ci-dessous en éxécutant la cellule.\n",
    "\n",
    "⚒️ Options disponibles\n",
    "-------------------\n",
    "\n",
    "* **transforms** : Permet d'appliquer des transformations au texte (*pre-processing*) afin de faire varier les scores en sortie, vous pouvez combiner ces options ex. transforms=\"DLP\" (attention l'ordre peut avoir un impact). \n",
    "  - **D** : Supprime l'ensemble des chiffres et nombres;\n",
    "  - **U** : Majusculise le texte;\n",
    "  - **L** : Minusculise le texte;\n",
    "  - **P** : Supprime la ponctuation;\n",
    "  - **X** : Supprime les signes diacritiques;\n",
    "\n",
    "* **verbosity** : Permet de récupérer des logs d'éxécution pour suivre le processus.\n",
    "\n",
    "* **truncate** : Option à utiliser pour tronquer le résultat final.\n",
    "\n",
    "* **percent** : Option pour afficher un résultat en pourcentage.\n",
    "\n",
    "* **round_digits** : Option pour régler les chiffres après la virgule."
   ]
  },
  {
   "cell_type": "code",
   "execution_count": null,
   "metadata": {
    "id": "OhW1FwGaBYj9"
   },
   "outputs": [],
   "source": [
    "transforms=\"XP\"\n",
    "verbosity=False\n",
    "truncate=True\n",
    "percent=True\n",
    "round_digits='0.01'"
   ]
  },
  {
   "cell_type": "markdown",
   "metadata": {
    "id": "KF__XSfWEgPi"
   },
   "source": [
    "## Étape 5 : Création de l'objet Kami pour opérer les scores \n",
    "\n",
    "\n",
    "🚀 Lancer la cellule. En cas d'erreur vérifier bien que vous avez lancer la cellule précédente.\n",
    "\n",
    "Si vous utilisez du XML en vérité terrain, l'erreur : `Recognizers with segmentation types set() will be applied to segmentation of type baselines. This will likely result in severely degraded performace` apparait. Vous pouvez ignorer ces avertissements et passer à la suite."
   ]
  },
  {
   "cell_type": "code",
   "execution_count": null,
   "metadata": {
    "id": "PH0h2YkBBeFh"
   },
   "outputs": [],
   "source": [
    "kevaluator = Kami(ground_truth,  \n",
    "         model=model, \n",
    "         image=image,  \n",
    "         apply_transforms=transforms,\n",
    "         verbosity=verbosity, \n",
    "         truncate=truncate, \n",
    "         percent=True,  \n",
    "         round_digits=round_digits) "
   ]
  },
  {
   "cell_type": "markdown",
   "metadata": {
    "id": "ndI095-MFEoB"
   },
   "source": [
    "## Étape 6 : Visualiser les formes de textes (optionnelle)\n",
    "\n",
    "🚀 Lancer la cellule pour visualiser le texte de vérité terrain et le texte prédit, avec ou sans transformations selon les options précédémment choisies.\n",
    "\n",
    "⚠️ Il se peut que la taille de votre texte soit trop grande dans ce cas sélectionner des parties du texte via l'index pour afficher des extraits."
   ]
  },
  {
   "cell_type": "code",
   "execution_count": null,
   "metadata": {
    "colab": {
     "base_uri": "https://localhost:8080/"
    },
    "id": "TPd-wPJOFn-K",
    "outputId": "1054907b-03ca-42a1-8c53-b6a05b2f423e"
   },
   "outputs": [],
   "source": [
    "print(\"GROUND TRUTH TEXT : \\n\")\n",
    "print(kevaluator.reference)\n",
    "\n",
    "# via l'index (en cas de texte trop long) :\n",
    "# print(kevaluator.reference[0:50])\n",
    "\n",
    "print(f\"\\n{'-' * 20}\\n\")\n",
    "\n",
    "print(\"PREDICTION TEXT : \\n\")\n",
    "print(kevaluator.prediction)\n",
    "\n",
    "print(f\"\\n{'=' * 20}\\n\")\n",
    "\n",
    "print(\"GROUND TRUTH TEXT (with transforms) : \\n\")\n",
    "print(kevaluator.reference_preprocess)\n",
    "\n",
    "print(f\"\\n{'*' * 20}\\n\")\n",
    "\n",
    "print(\"PREDICTION TEXT (with transforms) : \\n\")\n",
    "print(kevaluator.prediction_preprocess)\n",
    "\n",
    "print(f\"\\n{'*' * 20}\\n\")"
   ]
  },
  {
   "cell_type": "markdown",
   "metadata": {
    "id": "uk4N_zIwGg6V"
   },
   "source": [
    "## Étape 7 : Visualiser les résultats obtenus dans un tableau\n",
    "\n",
    "\n",
    "🚀 Lancer la cellule pour afficher les résultats.\n",
    "\n",
    "Précisions sur les métriques \n",
    "----------------------------\n",
    "\n",
    "Opérations (utilisés pour la distance) : \n",
    "\n",
    "* **hits** : nombre de caractères similaires entre la vérité terrain et la prédiction; \n",
    "* **substitutions** : nombre de substitutions opérées entre la vérité terrain et la prédiction; \t\n",
    "* **deletions** : nombre de suppressions opérées entre la vérité terrain et la prédiction; \t\n",
    "* **insertions** : nombre d'insertions opérées entre la vérité terrain et la prédiction; \t\n",
    "\n",
    "Distance d'édition :\n",
    "\n",
    "* **levensthein_distance_char** : distance de Levenshtein calculée sur les caractères;\n",
    "* **levensthein_distance_words** : distance de Levenshtein calculée sur les mots;\n",
    "* **hamming_distance** : distance de Hamming (Ø si les chaînes ne font pas exactement la même longueur, nombre si les chaînes font la même longueur mais que certains caractères divergent).\n",
    "\n",
    "Scores généraux HTR/OCR :\n",
    "\n",
    "* **wer** : *word error rate* ou taux d'erreur par mots. Le $WER$ est calculé sur la base des mots de la vérité terrain par rapport à la prédiction réalisée par le modèle. Il est généralement compris entre $[0, 1.0]$, plus il est proche de 0 plus la reconnaissance est bonne. En revanche, il n'est pas borné : une mauvaise reconnaissance peut entrainer un $WER > 1.0$. \n",
    "Il est calculé\n",
    "\\begin{align}\n",
    "\\frac{S + D + I}{N}\n",
    "\\end{align}\n",
    "où $S$ est le nombre de substitions de mots, $D$ le nombre de mots surpprimés, et $I$ le nombre de mots insérés; $N$ correspond au nombre total de mots dans la chaîne de référence; cela correspond également à\n",
    "\\begin{align}\n",
    "\\frac{distance \\, de \\, Levenshtein \\, sur \\, les \\, mots}{N}\n",
    "\\end{align}\n",
    "\n",
    "* **cer** : *character error rate* ou taux d'erreur par caractères. Le $CER$ est calculé sur la base des caractères de la vérité terrain par rapport à la prédiction réalisée par le modèle. Il est généralement compris entre $[0, 1.0]$, plus il est proche de 0 plus la reconnaissance est bonne. En revanche, il n'est pas borné : une mauvaise reconnaissance peut entrainer un $CER > 1.0$.\n",
    "Il est calculé\n",
    "\\begin{align}\n",
    "\\frac{S + D + I}{N}\n",
    "\\end{align}\n",
    "où $S$ est le nombre de substitions de caractères, $D$ le nombre de caractères surpprimés, et $I$ le nombre de caractères insérés; $N$ correspond au nombre total de caractères dans la chaîne de référence; cela correspond également à\n",
    "\\begin{align}\n",
    "\\frac{distance \\, de \\, Levenshtein \\, sur \\, les \\, caractères}{N}\n",
    "\\end{align}\n",
    "\n",
    "* **wacc** \t: *word accuracy* ou taux de reconnaissance par mots calculé \n",
    "\\begin{align}\n",
    "1- WER \n",
    "\\end{align}\n",
    "En cas de très mauvaise reconnaissance ce taux peut-être négatif.\n",
    "\n",
    "Scores de précision (emprunté à l'évaluation de la reconnaissance de la parole - système ASR) : \n",
    "\n",
    "* **mer** : *match error rate*\n",
    "* **cil** : *character information lost*\n",
    "* **cip** : *charcter information preserve*\n",
    "\n",
    " Voir :\n",
    "\n",
    " - [Morris, A. et al. “From WER and RIL to MER and WIL: improved evaluation measures for connected speech recognition.” INTERSPEECH (2004).](https://www.semanticscholar.org/paper/From-WER-and-RIL-to-MER-and-WIL%3A-improved-measures-Morris-Maier/8516531ff3bd874b66b811f0bd4e21a2d6b10e54?p2df)\n",
    "\n",
    " - [Errattahi, R. et al. \"Automatic Speech Recognition Errors Detection and Correction: A Review\". Procedia Computer Science. (2018).](https://www.researchgate.net/publication/324427003_Automatic_Speech_Recognition_Errors_Detection_and_Correction_A_Review)\n",
    "\n",
    "\n",
    "\n"
   ]
  },
  {
   "cell_type": "code",
   "execution_count": null,
   "metadata": {
    "colab": {
     "base_uri": "https://localhost:8080/",
     "height": 766
    },
    "id": "qnTvsF4iSm7e",
    "outputId": "b942e233-a699-48ef-f94a-a2733c66a91b"
   },
   "outputs": [],
   "source": [
    "metadatas = {}\n",
    "metrics = {}\n",
    "\n",
    "now = datetime.now()\n",
    "metadatas['DATETIME'] = now.strftime(\"%d_%m_%Y_%H:%M:%S\")\n",
    "metadatas['IMAGE'] = image\n",
    "metadatas['GROUND_TRUTH'] = ground_truth\n",
    "metadatas['MODEL'] = model\n",
    "\n",
    "for key, value in kevaluator.scores.board.items():\n",
    "  if type(value) != dict and key not in ['levensthein_distance_char', \n",
    "                                           'levensthein_distance_words',\n",
    "                                           'hamming_distance', \n",
    "                                           'wer', \n",
    "                                           'cer', \n",
    "                                           'wacc', \n",
    "                                           'mer', \n",
    "                                           'cil', \n",
    "                                           'cip', \n",
    "                                           'hits', \n",
    "                                           'substitutions', \n",
    "                                           'deletions', \n",
    "                                           'insertions']:\n",
    "    metadatas[key] = value\n",
    "  else:\n",
    "    metrics[key] = value\n",
    "\n",
    "print(f\"************* EVALUATION HTR/OCR REPORT FROM KAMI - {metadatas['DATETIME']} / MODEL : {metadatas['MODEL']} *************\\n\")\n",
    "\n",
    "for key, value in metadatas.items():\n",
    "  print(f\"- {key} : {value}\")\n",
    "\n",
    "print(\"\\n\")\n",
    "\n",
    "try:\n",
    "  df_metrics = pd.DataFrame.from_dict(metrics)\n",
    "except:\n",
    "  df_metrics = pd.DataFrame.from_dict(metrics, orient='index')\n",
    "\n",
    "df_metrics"
   ]
  },
  {
   "cell_type": "markdown",
   "metadata": {
    "id": "ve_Fe947STzb"
   },
   "source": [
    "## Étape 8 : Exporter les résultats en CSV\n",
    "\n",
    "🚀 Lancer la cellule."
   ]
  },
  {
   "cell_type": "code",
   "execution_count": null,
   "metadata": {
    "colab": {
     "base_uri": "https://localhost:8080/",
     "height": 17
    },
    "id": "v6vRc3Qksy1b",
    "outputId": "9a60bf21-df76-4a5f-c6c3-9d0d67a99bb7"
   },
   "outputs": [],
   "source": [
    "name_csv = f\"evaluation_report_kami_{metadatas['DATETIME']}_{metadatas['MODEL']}.csv\"\n",
    "\n",
    "with open(name_csv, 'w')  as csv_file:\n",
    "  writer = csv.writer(csv_file, \n",
    "                      delimiter=',',\n",
    "                      quotechar='|', \n",
    "                      quoting=csv.QUOTE_MINIMAL)\n",
    "  for key, value in metadatas.items():\n",
    "    row = []\n",
    "    row.append(key)\n",
    "    row.append(value)\n",
    "    writer.writerow(row)\n",
    "\n",
    "df_metrics.to_csv(name_csv, mode='a', header=True)\n",
    "\n",
    "\n",
    "files.download(name_csv)"
   ]
  }
 ],
 "metadata": {
  "colab": {
   "collapsed_sections": [],
   "machine_shape": "hm",
   "name": "Tutoriel-Kami.ipynb",
   "provenance": []
  },
  "kernelspec": {
   "display_name": "Python 3 (ipykernel)",
   "language": "python",
   "name": "python3"
  },
  "language_info": {
   "codemirror_mode": {
    "name": "ipython",
    "version": 3
   },
   "file_extension": ".py",
   "mimetype": "text/x-python",
   "name": "python",
   "nbconvert_exporter": "python",
   "pygments_lexer": "ipython3",
   "version": "3.8.10"
  }
 },
 "nbformat": 4,
 "nbformat_minor": 1
}
