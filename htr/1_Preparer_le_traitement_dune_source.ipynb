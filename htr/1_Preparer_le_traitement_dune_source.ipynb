{
 "cells": [
  {
   "cell_type": "markdown",
   "id": "f76ae309",
   "metadata": {},
   "source": [
    "Préparer le traitement d'une source\n",
    "====\n",
    "<br>\n",
    "\n",
    "Trois aspects de la source à traiter doivent faire l'objet d'une évaluation en amont du traitement :\n",
    "1. Les qualités physiques du document (état de conservation, lisibilité)\n",
    "2. Les caractéristiques de la reproduction photographique\n",
    "3. Les caractéristiques paléographiques de la source\n",
    "\n",
    "# Convertir les images\n",
    "\n",
    "Il est recommandé de commencer par importer le contenu du dossier de la source, contenant toutes les images, dans un dossier local temporaire (on le supprimera aussitôt après avoir sélectionné les images à traiter)."
   ]
  },
  {
   "cell_type": "code",
   "execution_count": 3,
   "id": "bef06b5d",
   "metadata": {},
   "outputs": [
    {
     "name": "stdout",
     "output_type": "stream",
     "text": [
      "mkdir: impossible de créer le répertoire «/home/sbiay/Bureau/ma-source»: Le fichier existe\r\n"
     ]
    }
   ],
   "source": [
    "!mkdir ~/Bureau/ma-source"
   ]
  },
  {
   "cell_type": "markdown",
   "id": "565e659b",
   "metadata": {},
   "source": [
    "Une fois les images copiées localement, et afin de ne pas manipuler puis stocker des fichiers de trop gros format, on recommande de convertir les fichiers images `.tif` de l'archive de la correspondance au format `.jpg`. \n",
    "\n",
    "La conversion des images est très simple avec logiciel libre [XnView MP](https://www.xnview.com/fr/xnviewmp/):\n",
    "\n",
    "![démo-conversion](./img/demo/conversion-format-img.png)\n",
    "\n",
    "(Attention, chaque fois que l'on ré-enregistre un fichier au format `.jpg`, une nouvelle compression des données s'opère, il est donc recommandé de ne pas modifier ces fichiers une fois convertis)."
   ]
  },
  {
   "cell_type": "markdown",
   "id": "9f77fd05",
   "metadata": {},
   "source": [
    "# Sélectionner les pièces inventoriées\n",
    "\n",
    "Toutes les reproductions photographiques n'ont pas été inventoriées et toutes les lettres inventoriées n'ont pas été publiées. Au moment de la copie des reproductions d'une source, il est donc nécessaire de ne prendre en compte que les pièces publiées dans l'inventaire.\n",
    "\n",
    "## Lister les images inventoriées d'un dossier\n",
    "\n",
    "On initie le dossier où l'on importera les images de la source à traiter :"
   ]
  },
  {
   "cell_type": "code",
   "execution_count": null,
   "id": "5e8820bf",
   "metadata": {},
   "outputs": [],
   "source": [
    "# On recommande d'importer les images de la source dans le dossier créé par la commande suivante\n",
    "!mkdir ./img/source-a-traiter"
   ]
  },
  {
   "cell_type": "markdown",
   "id": "1e07e6b5",
   "metadata": {},
   "source": [
    "L'utilisation du script [images.py](../donnees/images.py) va générer dans le dossier que l'on vient de créer un fichier Json contenant la liste des notices d'inventaires publiées pour les images contenue dans le dossier source choisi."
   ]
  },
  {
   "cell_type": "code",
   "execution_count": 4,
   "id": "16f65968",
   "metadata": {},
   "outputs": [
    {
     "name": "stdout",
     "output_type": "stream",
     "text": [
      "Traceback (most recent call last):\r\n",
      "  File \"../donnees/images.py\", line 88, in <module>\r\n",
      "    donneesImages()\r\n",
      "  File \"/home/sbiay/dhi/venv/lib/python3.8/site-packages/click/core.py\", line 829, in __call__\r\n",
      "    return self.main(*args, **kwargs)\r\n",
      "  File \"/home/sbiay/dhi/venv/lib/python3.8/site-packages/click/core.py\", line 782, in main\r\n",
      "    rv = self.invoke(ctx)\r\n",
      "  File \"/home/sbiay/dhi/venv/lib/python3.8/site-packages/click/core.py\", line 1066, in invoke\r\n",
      "    return ctx.invoke(self.callback, **ctx.params)\r\n",
      "  File \"/home/sbiay/dhi/venv/lib/python3.8/site-packages/click/core.py\", line 610, in invoke\r\n",
      "    return callback(*args, **kwargs)\r\n",
      "  File \"../donnees/images.py\", line 66, in donneesImages\r\n",
      "    if noticeImage(image):\r\n",
      "  File \"../donnees/images.py\", line 22, in noticeImage\r\n",
      "    fud = donneesFud()\r\n",
      "  File \"/home/sbiay/dhi/donnees/toutesDonnees.py\", line 22, in donneesFud\r\n",
      "    with open(\"./20220408_exportFuD_principal.csv\") as csvf:\r\n",
      "FileNotFoundError: [Errno 2] No such file or directory: './20220408_exportFuD_principal.csv'\r\n"
     ]
    }
   ],
   "source": [
    "!python3 SCRIPT ~/Bureau/ma-source ./img/source-a-traiter"
   ]
  },
  {
   "cell_type": "markdown",
   "id": "63b4b9a0",
   "metadata": {},
   "source": [
    "## Copier uniquement les images inventoriées\n",
    "\n",
    "Pour importer dans le dossier où nous avons placé le fichier Json les images du dossier source qui possèdent une notice d'inventaire publiée, on lance le script suivant :"
   ]
  },
  {
   "cell_type": "code",
   "execution_count": null,
   "id": "e75e1ca6",
   "metadata": {},
   "outputs": [],
   "source": []
  },
  {
   "cell_type": "markdown",
   "id": "1047dd7c",
   "metadata": {},
   "source": [
    "# Analyser les caractéristiques paléographiques de la source\n",
    "\n",
    "Les recueils qui constituent une part importante de la correspondance de Constance de Salm sont l'oeuvre de plusieurs scribes. La différence des écritures représente une difficulté certaine pour la reconnaissance automatique de l'écriture.\n",
    "\n",
    "Pour déterminer quelle sera la marche à suivre pour la reconnaissance automatique de l'écriture, il est donc nécessaire d'évaluer le nombre de main responsable de la source traitée ainsi que le nombre de pages écrite par chaque scribe."
   ]
  }
 ],
 "metadata": {
  "kernelspec": {
   "display_name": "Python 3 (ipykernel)",
   "language": "python",
   "name": "python3"
  },
  "language_info": {
   "codemirror_mode": {
    "name": "ipython",
    "version": 3
   },
   "file_extension": ".py",
   "mimetype": "text/x-python",
   "name": "python",
   "nbconvert_exporter": "python",
   "pygments_lexer": "ipython3",
   "version": "3.8.10"
  }
 },
 "nbformat": 4,
 "nbformat_minor": 5
}
