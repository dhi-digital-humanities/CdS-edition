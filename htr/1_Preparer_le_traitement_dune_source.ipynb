{
 "cells": [
  {
   "cell_type": "markdown",
   "id": "68643b6b",
   "metadata": {
    "pycharm": {
     "name": "#%% md\n"
    }
   },
   "source": [
    "Préparer le traitement d'une source\n",
    "====\n",
    "<br>\n",
    "\n",
    "Ce *notebook* explique comment importer un dossier d'images depuis le disque dur de stockage des documents numérisés, comment les sélectionner et les placer dans un dossier de travail.\n",
    "\n",
    "# Convertir les images\n",
    "\n",
    "Il est recommandé de commencer par importer le contenu du dossier de la source, contenant toutes les images, dans un dossier local temporaire (on le supprimera aussitôt après avoir sélectionné les images à traiter)."
   ]
  },
  {
   "cell_type": "code",
   "execution_count": null,
   "id": "7f2b936a",
   "metadata": {
    "pycharm": {
     "name": "#%%\n"
    }
   },
   "outputs": [],
   "source": [
    "!mkdir --parents ~/Bureau/source/"
   ]
  },
  {
   "cell_type": "markdown",
   "id": "b199645a",
   "metadata": {
    "pycharm": {
     "name": "#%% md\n"
    }
   },
   "source": [
    "Copier et convertir des images est très simple avec le logiciel libre [XnView MP](https://www.xnview.com/fr/xnviewmp/) : une fois que l'on se trouve dans un dossier d'images, la commande **Ctrl + U** ouvre la fenêtre de traitement par lot.\n",
    "- On renseigne un dossier de sortie\n",
    "- Le nom de fichier est identique à la source avec le motif **{Filename}**\n",
    "- On choisit comme format JPG - JPEG / JFIF\n",
    "- On clique sur **Convertir**\n",
    "\n",
    "![démo-conversion](./demo/conversion-format-img.png)"
   ]
  },
  {
   "cell_type": "markdown",
   "id": "b9b24f7f",
   "metadata": {
    "pycharm": {
     "name": "#%% md\n"
    }
   },
   "source": [
    "# Sélectionner les pièces inventoriées\n",
    "\n",
    "Toutes les reproductions photographiques n'ont pas été inventoriées et toutes les lettres inventoriées n'ont pas été publiées. Au moment de la copie des reproductions d'une source, il est donc nécessaire de **ne prendre en compte que les pièces publiées dans l'inventaire**.\n",
    "\n",
    "## Lister les images inventoriées d'un dossier\n",
    "\n",
    "On initie le dossier où l'on importera les images de la source à traiter (il est recommandé de lui donner le même nom que le dossier de stockage d'origine) :"
   ]
  },
  {
   "cell_type": "code",
   "execution_count": null,
   "id": "48833fb8",
   "metadata": {
    "pycharm": {
     "name": "#%%\n"
    }
   },
   "outputs": [],
   "source": [
    "# On recommande d'importer les images de la source dans le dossier créé par la commande suivante\n",
    "!mkdir --parents ./traitnt-encours/img-complet/"
   ]
  },
  {
   "cell_type": "markdown",
   "id": "d55026c9",
   "metadata": {
    "pycharm": {
     "name": "#%% md\n"
    }
   },
   "source": [
    "L'utilisation du script [donneesImages.py](./py/donneesImages.py) va générer dans le dossier que l'on vient de créer un fichier Json contenant la **liste des notices d'inventaires publiées** pour les images contenues dans le dossier source, ainsi que la liste des images non inventoriées."
   ]
  },
  {
   "cell_type": "code",
   "execution_count": null,
   "id": "1b0b9fea",
   "metadata": {
    "pycharm": {
     "name": "#%%\n"
    }
   },
   "outputs": [],
   "source": [
    "!python3 py/donneesImages.py ~/Bureau/source/ ./traitnt-encours/img-complet/"
   ]
  },
  {
   "cell_type": "markdown",
   "id": "101f6f7a",
   "metadata": {
    "pycharm": {
     "name": "#%% md\n"
    }
   },
   "source": [
    "Le fichier Json créé contient un dénombrement des images correspondant à (au moins) une notice et des images ne correspondant à aucune notice :"
   ]
  },
  {
   "cell_type": "code",
   "execution_count": null,
   "id": "08310224",
   "metadata": {
    "pycharm": {
     "name": "#%%\n"
    }
   },
   "outputs": [],
   "source": [
    "import json\n",
    "\n",
    "with open(\"./sources/IMPORT/donnees.json\") as jsonf:\n",
    "    donnees = json.load(jsonf)\n",
    "\n",
    "print(f\"Le nombre d'images possédant une notice est de {donnees['stats']['records']}.\")\n",
    "print(f\"Le nombre d'images ne possédant pas de notice est de {donnees['stats']['no-record']}.\")"
   ]
  },
  {
   "cell_type": "markdown",
   "id": "5067f8f0",
   "metadata": {
    "pycharm": {
     "name": "#%% md\n"
    }
   },
   "source": [
    "## Copier les images sélectionnées\n",
    "\n",
    "Pour importer dans le dossier où nous avons placé le fichier Json les images du dossier source qui possèdent une notice d'inventaire publiée, on lance le script [importImages.py](./py/importImages.py) :"
   ]
  },
  {
   "cell_type": "code",
   "execution_count": null,
   "id": "d041d44f",
   "metadata": {
    "pycharm": {
     "name": "#%%\n"
    }
   },
   "outputs": [],
   "source": [
    "!python3 py/importImages.py ~/Bureau/source/ ./traitnt-encours/img-complet/"
   ]
  },
  {
   "cell_type": "markdown",
   "id": "b39f287a",
   "metadata": {
    "pycharm": {
     "name": "#%% md\n"
    }
   },
   "source": [
    "Avec la ligne de commande suivante, on copie dans le dossier ./traitnt-encours/img-complet/ les images possédant une notice :"
   ]
  },
  {
   "cell_type": "code",
   "execution_count": null,
   "id": "45287577",
   "metadata": {
    "pycharm": {
     "name": "#%%\n"
    }
   },
   "outputs": [],
   "source": [
    "!cat ./traitnt-encours/img-complet/copier.txt | xargs -I '{}' cp '{}' ./traitnt-encours/img-complet/"
   ]
  }
 ],
 "metadata": {
  "kernelspec": {
   "display_name": "Python 3 (ipykernel)",
   "language": "python",
   "name": "python3"
  },
  "language_info": {
   "codemirror_mode": {
    "name": "ipython",
    "version": 3
   },
   "file_extension": ".py",
   "mimetype": "text/x-python",
   "name": "python",
   "nbconvert_exporter": "python",
   "pygments_lexer": "ipython3",
   "version": "3.8.10"
  }
 },
 "nbformat": 4,
 "nbformat_minor": 5
}