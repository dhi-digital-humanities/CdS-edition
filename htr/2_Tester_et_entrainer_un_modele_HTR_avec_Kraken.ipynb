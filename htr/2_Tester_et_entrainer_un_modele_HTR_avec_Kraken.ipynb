{
 "cells": [
  {
   "cell_type": "markdown",
   "id": "58f245d1",
   "metadata": {
    "pycharm": {
     "name": "#%% md\n"
    }
   },
   "source": [
    "Tester et entraîner un modèle de reconnaissance d'écriture\n",
    "===\n",
    "<br>\n",
    "\n",
    "Les dossiers qui constituent l'archive de la correspondance de Constance de Salm réunissent des documents écrits par plusieurs scribes. La différence des écritures représente une difficulté certaine pour la reconnaissance automatique.\n",
    "\n",
    "Ce *notebook* explique comment procéder à la reconnaissance automatique de l'écriture dans ce contexte particulier impliquant de multiples écritures.\n",
    "\n",
    "# Classer les images par mains\n",
    "\n",
    "Inventorier toutes les mains attestées dans une source n'est pas toujours aisé.\n",
    "\n",
    "L'objectif reste avant tout de **repérer les mains principales** : celles attestées sur le plus grand nombre de pages. Une main qui ne serait attestée que sur une dizaine de pages ne mériterait pas d'être classée, car entraîner un modèle de reconnaissance d'écriture pour un petit nombre de pages est une perte de temps.\n",
    "\n",
    "Voici un modèle d'arborescence pour le rangement des fichiers et le nommage des dossiers :\n",
    "```txt\n",
    ".\n",
    "└── traitnt-encours\n",
    "    ├── img-complet\n",
    "    │   ├── CdS02_Konv019_0011.jpg\n",
    "    │   ├── CdS02_Konv019_0012.jpg\n",
    "    │   ├── CdS02_Konv019_0013.jpg\n",
    "    │   ├── …\n",
    "    │   ├── CdS02_Konv019_0033.jpg\n",
    "    │   ├── CdS02_Konv019_0037.jpg\n",
    "    │   ├── CdS02_Konv019_0039.jpg\n",
    "    │   └── …\n",
    "    │\n",
    "    ├── mainCdS02_Konv019_01\n",
    "    │   ├── CdS02_Konv019_0011.jpg\n",
    "    │   ├── CdS02_Konv019_0012.jpg\n",
    "    │   ├── CdS02_Konv019_0013.jpg\n",
    "    │   └── …\n",
    "    └── mainCdS02_Konv019_02\n",
    "        ├── CdS02_Konv019_0033.jpg\n",
    "        ├── CdS02_Konv019_0037.jpg\n",
    "        ├── CdS02_Konv019_0039.jpg\n",
    "        └── …\n",
    "```"
   ]
  },
  {
   "cell_type": "markdown",
   "id": "264dc08e",
   "metadata": {},
   "source": [
    "Il est important qu'aucune image ne soit placée dans deux dossiers de main différents, même si les deux mains en questions sont toutes deux attestées dans l'image. Le script suivant permet de retourner la liste des doublons éventuels :"
   ]
  },
  {
   "cell_type": "code",
   "execution_count": 23,
   "id": "d2e21480",
   "metadata": {},
   "outputs": [
    {
     "name": "stdout",
     "output_type": "stream",
     "text": [
      "Bravo ! Aucun doublon n'a été trouvé.\n"
     ]
    }
   ],
   "source": [
    "import os\n",
    "\n",
    "# On initie un dictionnaire pour la récupération des noms de fichiers et de leur racine\n",
    "dictFichiers = {}\n",
    "\n",
    "# On analyse l'arborescence courante\n",
    "for racine, dossiers, fichiers in os.walk(\"./traitnt-encours/\"):\n",
    "    # On boucle sur les fichiers\n",
    "    for fichier in fichiers:\n",
    "        # On ne sélectionne que les fichiers .jpg et les fichiers rangés dans des dossiers de main\n",
    "        if fichier[-3:] == \"jpg\" and racine[:22] == \"./traitnt-encours/main\":\n",
    "            # Si le fichier est absent du dictionnaire, on l'ajoute\n",
    "            if not dictFichiers.get(fichier):\n",
    "                dictFichiers[fichier] = [racine]\n",
    "            # Si le fichier est présent dans le dictionnaire, on ajoute sa racine à la liste des valeurs\n",
    "            else:\n",
    "                dictFichiers[fichier].append(racine)\n",
    "    \n",
    "# On initie un booléen pour confirmer l'absence de doulon\n",
    "doublons = False\n",
    "\n",
    "# Pour rechercher les doublons, on boucle sur les entrées du dictionnaire\n",
    "for fichier in dictFichiers:\n",
    "    # Si le nom du fichier est associé à une liste de plus de 1 racine\n",
    "    if len(dictFichiers[fichier]) > 1:\n",
    "        doublons = True\n",
    "        # On retourne alors un message d'alerte\n",
    "        print(f\"Le fichier {fichier} est doublonné :\")\n",
    "        for racine in dictFichiers[fichier]:\n",
    "            print(f\"{racine}/{fichier}\")\n",
    "\n",
    "# On retourne un message si aucun doublon n'a été trouvé\n",
    "if not doublons:\n",
    "    print(\"Bravo ! Aucun doublon n'a été trouvé.\")"
   ]
  },
  {
   "cell_type": "markdown",
   "id": "6b2c5296",
   "metadata": {
    "pycharm": {
     "name": "#%% md\n"
    }
   },
   "source": [
    "S'il existe des doublons, il est important de **les supprimer**. On peut le faire automatiquement grâce à la commande suivante, qui va supprimer arbitrairement la première occurrence :"
   ]
  },
  {
   "cell_type": "code",
   "execution_count": 20,
   "id": "d2b37449",
   "metadata": {},
   "outputs": [],
   "source": [
    "# On boucle sur les entrées du dictionnaire\n",
    "for fichier in dictFichiers:\n",
    "    # Si le nom du fichier est associé à une liste de plus de 1 racine\n",
    "    if len(dictFichiers[fichier]) > 1:\n",
    "        # On supprime le premier de la liste\n",
    "        !rm {dictFichiers[fichier][0]}/{fichier}"
   ]
  },
  {
   "cell_type": "markdown",
   "id": "99024783",
   "metadata": {
    "pycharm": {
     "name": "#%% md\n"
    }
   },
   "source": [
    "# Créer un échantillon-test de chaque écriture\n",
    "\n",
    "Afin de pouvoir tester un ou plusieurs modèles, il est nécessaire de constituer une vérité de terrain de 2-3 doubles pages (selon la densité d'écriture qu'elles contiennent).\n",
    "\n",
    "## Critères de sélection\n",
    "\n",
    "On crée dans le dossier de chaque main un dossier **test/** contenant des spécimens d'écriture selon les critères suivants :\n",
    "- Reproductions de bonne qualité (sans problème de transparence)\n",
    "- Pages choisies de manière discontinue (l'écriture d'une même main peut en effet varier et il est utile de prendre en compte cette variété pour le test)\n",
    "\n",
    "Si certaines mains ne sont attestées qu'en compagnie d'autres écritures, on veillera à limiter le test de reconnaissance d'écriture aux seuls lignes de la main à tester (en supprimant après segmentation les lignes non pertinentes afin que la reconnaissance de l'écriture ne les traite pas).\n",
    "\n",
    "## Organisation des fichiers\n",
    "\n",
    "Voici un modèle d'arborescence pour le rangement et le nommage des fichiers et dossiers. Il est important de **déplacer les fichiers** vers le dossier test/ et non **pas les copier** :\n",
    "```txt\n",
    ".\n",
    "└── traitnt-encours\n",
    "    ├── img-complet\n",
    "    │   ├── CdS02_Konv019_0011.jpg\n",
    "    │   ├── CdS02_Konv019_0012.jpg\n",
    "    │   ├── CdS02_Konv019_0013.jpg\n",
    "    │   ├── …\n",
    "    │   ├── CdS02_Konv019_0033.jpg\n",
    "    │   ├── CdS02_Konv019_0037.jpg\n",
    "    │   ├── CdS02_Konv019_0039.jpg\n",
    "    │   └── …\n",
    "    │\n",
    "    ├── mainCdS02_Konv019_01\n",
    "    │   ├── CdS02_Konv019_0013.jpg\n",
    "    │   ├── …\n",
    "    │   ├── test\n",
    "    │   │   ├── CdS02_Konv019_0011.jpg\n",
    "    │   │   └── CdS02_Konv019_0012.jpg\n",
    "    │   └── train\n",
    "    │\n",
    "    └── mainCdS02_Konv019_02\n",
    "        ├── CdS02_Konv019_0039.jpg\n",
    "        ├── …\n",
    "        ├── test\n",
    "        │   ├── CdS02_Konv019_0033.jpg\n",
    "        │   └── CdS02_Konv019_0037.jpg\n",
    "        └── train\n",
    "```\n",
    "\n",
    "## Démarche\n",
    "\n",
    "1. On suit de manière rigoureuse les préconisations pour la transcription énoncées dans la [documentation analytique](https://github.com/sbiay/CdS-edition/blob/main/documentation/documentation.pdf) (cf. annexe Normes de transcription).\n",
    "2. On procède à la segmentation automatique puis à l'annotation manuelle des pages (comme expliqué dans le notebook [suivant](./3_Segmenter_et_annoter_une_page.ipynb)) en éliminant manuellement toutes les lignes d'une écriture différente de celle pour laquelle la collection d'entraînement est faite ;\n",
    "3. On transcrit les pages ;\n",
    "4. On exporte les pages d'entraînement au format XML-Alto et on les place dans le dossier **test** de la main concernée.\n",
    "\n",
    "\n",
    "# Tester des modèles HTR\n",
    "\n",
    "## Installer l'application Kraken\n",
    "\n",
    "On recommande pour tester un modèle d'utiliser l'application Kraken en ligne de commande, disponible pour Linux et Mac OSX (non pour Windows). Les instructions sont consultables [ici](https://github.com/mittagessen/kraken#installation).\n",
    "\n",
    "## Importer un modèle\n",
    "\n",
    "Les modèles extérieurs au projet que l'on a utilisés sont téléchargeables sur le [Gitlab du laboratoire Inria](https://gitlab.inria.fr/dh-projects/kraken-models/-/tree/master/transcription%20models) :\n",
    "- generic_lectaurep_26.mlmodel\n",
    "- cm_ft_mrs15_11.mlmodel\n",
    "\n",
    "## Initier un journal de tests\n",
    "\n",
    "Le script [journalReconn.py](./py/journalReconn.py) permet de pré-remplir un journal pour l'enregistrement des résultats des tests effectués sur les modèles. \n",
    "\n",
    "On lui donne comme argument un nom de modèle et il écrit dans le fichier Json [journal-rec.json](./sources/journal-rec.json), à la date et à l'heure courante et pour chaque main listée dans le fichier [mains.csv](./sources/mains.csv), les noms de ces mains et prépare le renseignement des valeurs de test.\n",
    "\n",
    "Conseils d'utilisation :\n",
    "- Paramètre MODELE : obligatoire ; reseigner un **nom de modèle** plutôt que son chemin relatif ou absolu\n",
    "- Option -v, --veriteterrain : le test initial se fait naturellement sans avoir entraîné le modèle sur les vérités de terrain\n",
    "- Option -i, --ignore : pour ignorer une main listée dans le fichier [mains.csv](./sources/mains.csv)"
   ]
  },
  {
   "cell_type": "code",
   "execution_count": null,
   "id": "6197a37b",
   "metadata": {
    "pycharm": {
     "name": "#%%\n"
    }
   },
   "outputs": [],
   "source": [
    "!python3 py/journalReconn.py MODELE"
   ]
  },
  {
   "cell_type": "markdown",
   "id": "829132d3",
   "metadata": {
    "pycharm": {
     "name": "#%% md\n"
    }
   },
   "source": [
    "Le contenu écrit dans le fichier journal donne comme **accuracy** pour chaque main une valeur de 0. Cette valeur doit être saisie manuellement dans le fichier une fois effectué le test comme suit.\n",
    "\n",
    "\n",
    "## Effectuer un test\n",
    "\n",
    "Avec la commande suivante on effectue un test d'acuité pour un modèle sur une main particulière (on doit relever l'*Average accuracy*) :"
   ]
  },
  {
   "cell_type": "code",
   "execution_count": null,
   "id": "cd9340df",
   "metadata": {
    "pycharm": {
     "name": "#%%\n"
    }
   },
   "outputs": [],
   "source": [
    "# ketos test -m ../sources/modeles-rec/NOM-MODEL.mlmodel sources/NOM-MAIN/test/*xml -f alto\n",
    "!ketos test -m ./sources/modeles-rec/cm_ft_mrs15_11.mlmodel sources/mainCdS02_Konv019_02/test/*xml -f alto"
   ]
  },
  {
   "cell_type": "markdown",
   "id": "740e7253",
   "metadata": {
    "pycharm": {
     "name": "#%% md\n"
    }
   },
   "source": [
    "Il convient de choisir le modèle présentant **les meilleurs résultats pour l'ensemble des écritures testées**. Si le meilleur modèle n'atteint pas 90% pour tout ou partie des mains, il convient de l'entraîner par l'apport de vérités de terrain pour chaque main n'atteignant pas ce score.\n",
    "\n",
    "# Entraîner un modèle\n",
    "\n",
    "## Principe général\n",
    "\n",
    "L'entraînement d'un modèle multi-main consiste à constituer une collection d'entraînement pour chaque main concernée et à entraîner un modèle sur l'ensemble de ces collections réunies.\n",
    "\n",
    "## Constituer des collections d'entraînement\n",
    "\n",
    "On procède à la constitution d'une vérité de terrain pour chaque spécimen d'écriture. Il s'agit de transcrire l'**équivalent d'une dizaine de pages simples** : si les pages présentent des blancs importants ou d'autres écritures étrangères à l'entraînement (elles ne doivent pas être transcrites) on augmentera le nombre de pages pour parvenir grosso modo à ce volume de 10 pages simples.\n",
    "\n",
    "La transcription de ces pages se fait à la main, sans l'aide d'une première reconnaissance de l'écriture, car il est plus compliqué de corriger une mauvaise prédiction que de transcrire manuellement. On reprend pour cela la [démarche](./2_Tester_et_entrainer_un_modele_HTR.ipynb#D%C3%A9marche) énoncée plus haut.\n",
    "\n",
    "## Entraîner un modèle\n",
    "\n",
    "Une fois les collections d'entraînement de chaque main, on écrit dans un fichier dédié les chemins de fichiers des vérités de terrain sur lesquelles l'entraînement doit s'appuyer (i.e. tous les fichiers XML contenus dans les dossiers **train/**) :"
   ]
  },
  {
   "cell_type": "code",
   "execution_count": null,
   "id": "9d6f28c5",
   "metadata": {
    "pycharm": {
     "name": "#%%\n"
    }
   },
   "outputs": [],
   "source": [
    "# On écrit la liste des chemins de fichiers\n",
    "!find -wholename */train/*xml > train.txt\n",
    "\n",
    "# On crée un dossier de sortie pour le modèle entraîné\n",
    "!mkdir --parents ./sources/modeles-rec/out/\n",
    "\n",
    "# La commande suivante entraîne le modèle cm_ft_mrs15_11.mlmodel\n",
    "!ketos train -r 0.0001 --lag 20  -s '[1,120,0,1 Cr3,13,32 Do0.1,2 Mp2,2 Cr3,13,32 Do0.1,2 Mp2,2 Cr3,9,64 Do0.1,2 Mp2,2 Cr3,9,64 Do0.1,2 S1(1x0)1,3 Lbx200 Do0.1,2 Lbx200 Do.1,2 Lbx200 Do]' --augment --device cpu --resize add -i ./sources/modeles-rec/cm_ft_mrs15_11.mlmodel -t ./sources/train.txt -f alto --output --output sources/modeles-rec/out/"
   ]
  },
  {
   "cell_type": "markdown",
   "id": "ca31eac3",
   "metadata": {
    "pycharm": {
     "name": "#%% md\n"
    }
   },
   "source": [
    "## Tester le nouveau modèle\n",
    "\n",
    "Une fois le modèle entraîné, on renouvelle la procédure de test expliquée [ci-dessus](./2_Tester_et_entrainer_un_modele_HTR.ipynb#Tester-des-mod%C3%A8les-HTR). Si certaines mains ont toujours un score inférieur à 90%, on réitère la procédure d'entraînement en apportant 5 nouvelles pages pour chaque main n'atteignant pas le score souhaité."
   ]
  }
 ],
 "metadata": {
  "kernelspec": {
   "display_name": "Python 3 (ipykernel)",
   "language": "python",
   "name": "python3"
  },
  "language_info": {
   "codemirror_mode": {
    "name": "ipython",
    "version": 3
   },
   "file_extension": ".py",
   "mimetype": "text/x-python",
   "name": "python",
   "nbconvert_exporter": "python",
   "pygments_lexer": "ipython3",
   "version": "3.8.10"
  }
 },
 "nbformat": 4,
 "nbformat_minor": 5
}
