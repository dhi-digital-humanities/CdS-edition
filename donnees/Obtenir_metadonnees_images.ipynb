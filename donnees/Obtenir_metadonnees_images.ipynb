{
 "cells": [
  {
   "cell_type": "markdown",
   "id": "52c1b014",
   "metadata": {},
   "source": [
    "Obtenir les métadonnées d'une image\n",
    "===\n",
    "\n",
    "Le script suivant permet, à partir d'une liste d'images, de récupérer leur identifiant dans l'inventaire complet de la correspondance ainsi que l'URL de la notice publiée sur le [site web](http://constance-de-salm.de)"
   ]
  },
  {
   "cell_type": "code",
   "execution_count": 18,
   "id": "9cb121a4",
   "metadata": {},
   "outputs": [
    {
     "name": "stdout",
     "output_type": "stream",
     "text": [
      "L'image CdS02_Konv002-02_0066.jpg n'a pas de notice associée.\n",
      "\n",
      "L'image CdS02_Konv002-02_0058.jpg n'a pas de notice associée.\n",
      "\n",
      "L'image CdS02_Konv002-02_0175.jpg a pour notice(s) :\n",
      "- https://constance-de-salm.de/archiv/#/document/8856\n",
      "\n",
      "\n",
      "L'image CdS02_Konv002-02_0191.jpg a pour notice(s) :\n",
      "- https://constance-de-salm.de/archiv/#/document/8858\n",
      "\n",
      "\n"
     ]
    }
   ],
   "source": [
    "listeImages = [\n",
    "    \"CdS02_Konv002-02_0066.jpg\",\n",
    "    \"CdS02_Konv002-02_0073.jpg\",\n",
    "    \"CdS02_Konv002-02_0175.jpg\",\n",
    "    \"CdS02_Konv002-02_0191.jpg\"\n",
    "]\n",
    "\n",
    "from py.toutesDonnees import donneesFud, donneesZenodo\n",
    "\n",
    "# On charge les données exportées de FuD et de Zenodo\n",
    "fud = donneesFud()\n",
    "zenodo = donneesZenodo()\n",
    "\n",
    "# On initie la liste des résultats\n",
    "resultats = []\n",
    "\n",
    "# On boucle sur chaque image\n",
    "for image in listeImages:\n",
    "    notices = []\n",
    "    for item in fud:\n",
    "        # On pose comme condition que l'item ait une liste d'images\n",
    "        if item.get(\"Images\"):\n",
    "            # et que cette liste ne soit pas vide\n",
    "            if item[\"Images\"]:\n",
    "                # On pose enfin comme condition que l'image recherchée soit dans la liste\n",
    "                for cliche in item[\"Images\"]:\n",
    "                    if image == cliche:\n",
    "                        notices.append(item)\n",
    "\n",
    "    # On boucle sur les notices recueillies\n",
    "    for item in notices:\n",
    "        # On récupère les URL des notices publiées dans le jeu de données Zenodo\n",
    "        item[\"URL\"] = zenodo[item[\"idno\"]][\"URL\"]\n",
    "    # On ajoute les notices à la liste des résultats\n",
    "    resultats.append(notices)\n",
    "\n",
    "# On affiche les résultats\n",
    "for index, resultat in enumerate(resultats):\n",
    "    if not resultat:\n",
    "        print(f\"L'image {listeImages[index]} n'a pas de notice associée.\\n\")\n",
    "    else:\n",
    "        print(f\"L'image {listeImages[index]} a pour notice(s) :\")\n",
    "        for notice in resultat:\n",
    "            print(f\"- {notice['URL']}\")\n",
    "        print(\"\\n\")"
   ]
  }
 ],
 "metadata": {
  "kernelspec": {
   "display_name": "Python 3 (ipykernel)",
   "language": "python",
   "name": "python3"
  },
  "language_info": {
   "codemirror_mode": {
    "name": "ipython",
    "version": 3
   },
   "file_extension": ".py",
   "mimetype": "text/x-python",
   "name": "python",
   "nbconvert_exporter": "python",
   "pygments_lexer": "ipython3",
   "version": "3.8.10"
  }
 },
 "nbformat": 4,
 "nbformat_minor": 5
}
