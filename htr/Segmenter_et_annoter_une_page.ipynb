{
 "cells": [
  {
   "cell_type": "markdown",
   "id": "2f114903",
   "metadata": {},
   "source": [
    "Segmenter et annoter les pages d'un dossier\n",
    "===\n",
    "<br>\n",
    "\n",
    "# Lancer la segmentation automatisée\n",
    "On emploie l'algorithme par défaut pour la segmentation.\n",
    "\n",
    "\n",
    "# Annoter les régions et les lignes d'écriture de la page\n",
    "\n",
    "Une fois la segmentation faite, on passe à la phase d'[annotation manuelle](https://lectaurep.hypotheses.org/documentation/prendre-en-main-escriptorium#annotationmanuelle), au cours de laquelle on applique la typologie de régions suivante :\n",
    "\n",
    "![Typage des régions](./demo/essai-zones-CdS02_Konv002-02_0066.jpg)"
   ]
  },
  {
   "cell_type": "markdown",
   "id": "59c3e129",
   "metadata": {},
   "source": [
    "## Régions\n",
    "\n",
    "### Opener\n",
    "\n",
    "On regroupe dans cette région tous les éléments préliminaires au texte de la lettre. \n",
    "\n",
    "Certains de ces éléments font l'objet d'un sous-type particulier :\n",
    "- Opener:title\n",
    "- Opener:additions\n",
    "- Opener:dateline\n",
    "- Opener:salute\n",
    "\n",
    "D'autres n'ont pas de sous-type :\n",
    "- Le rappel de l'expéditeur et de l'année d'expédition en haut à gauche\n",
    "    \n",
    "    ![Mention d'année et d'expéditeur](./demo/expediteur.jpg)"
   ]
  },
  {
   "cell_type": "markdown",
   "id": "842b4e03",
   "metadata": {},
   "source": [
    "### Main\n",
    "\n",
    "Contient le corps de la lettre.\n",
    "\n",
    "### Signature\n",
    "\n",
    "Cette région inclut aussi bien la **formule de politesse** qui clot éventuellement la lettre (*Amitié et estime*, *Mille assurances d'amitié sincère*, *Veuillez agréer…*, etc.) que la **signature proprement dite**.\n",
    "\n",
    "### Postscript\n",
    "\n",
    "Contient un éventuellement postscriptum à la lettre.\n",
    "\n",
    "### Additions\n",
    "\n",
    "Plusieurs types d'éléments s'inscrivent dans cette catégorie.\n",
    "\n",
    "- Certains remontent à l'élaboration du recueil :\n",
    "    \n",
    "    ![Annotation courante](./demo/CdS02_Konv002-02_0066_detail-04.jpg) ![Foliotation](./demo/foliotation.jpg)"
   ]
  },
  {
   "cell_type": "markdown",
   "id": "11eef79e",
   "metadata": {},
   "source": [
    "- D'autres témoignent de l'histoire de sa conservation.\n",
    "    \n",
    "    ![Indications de contenu](./demo/regeste.jpg)\n",
    "    \n",
    "    ![Numérotation érudite](./demo/num-erudite.jpg)"
   ]
  },
  {
   "cell_type": "markdown",
   "id": "2256b280",
   "metadata": {},
   "source": [
    "Une zone peut ne pas comporter de ligne (par exemple il n'est pas nécessaire de créer des lignes dans les zones de notes marginales que l'on transcrira de manière manuelle).\n",
    "\n",
    "## Lignes\n",
    "\n",
    "### Main\n",
    "\n",
    "Une fois le typage des régions effectué, il **ne faut pas oublier d'appliquer à toutes les lignes** le type \"Main\".\n",
    "\n",
    "### Correction\n",
    "\n",
    "On doit ensuite repérer si la page présente des corrections en interligne, auquel on attribue le type \"Correction\" :\n",
    "\n",
    "![Exemple de correction](./demo/correction.jpg)\n",
    "\n",
    "### Verse\n",
    "\n",
    "En outre, si la page présente des vers (comme c'est également le cas de l'exemple ci-dessus), on leur attribue le type \"Verse\".\n",
    "\n",
    "\n",
    "# Contrôler la reconnaissance des lignes\n",
    "\n",
    "Il n'est pas rare que les petites lignes d'écriture, notamment lorsqu'elles sont en oblique, ne soit pas correctement reconnues, comme dans les mentions d'expédition :\n",
    "\n",
    "![Mention d'expéditeur](./demo/expediteur.jpg)\n",
    "\n",
    "Mieux vaut corriger le tracé des lignes existantes plutôt que les effacer pour les retracer : on présevera une bonne numérotation en préservant l'existant.\n",
    "\n",
    "Ces corrections doivent être faites avant de contrôle l'ordre des lignes. Supprimer une ligne rétablit l'ordre initial et oblige à réitérer les éventuelles modifications d'ordre déjà faites.\n",
    "\n",
    "Enfin, il est important de **contrôler l'ordre des lignes** ou \"segments\" (voir la [documentation en ligne](https://lectaurep.hypotheses.org/documentation/prendre-en-main-escriptorium#segment-order)) :\n",
    "- Il est plus efficace de remonter les lignes qui ont un numéro trop élevé que de descendre des lignes qui ont un numéro trop petit\n",
    "- Si les zones ont été correctement définies, notamment les **pages** (CustomZone:page), le fait de déconnecter toutes les lignes de leur zone et de les reconnecter doit permettre de résoudre l'essentiel des problèmes d'ordre. Mais **attention : si les pages n'englobent pas correctement les zones de texte qu'elles contiennent, l'ordre peut s'en trouver fortement perturbé** (notamment si une zone de texte de la page de gauche empiète sur la zone de la page de droite)."
   ]
  },
  {
   "cell_type": "markdown",
   "id": "fda2fe09",
   "metadata": {},
   "source": [
    "# Effectuer une prédiction\n",
    "\n",
    "Une fois les zones typées, on lance l'algorithme de reconnaissance d'écriture choisi sur les images annotées. Une fois le processus achevé, on exporte les fichiers au format XML-Page sans les images."
   ]
  },
  {
   "cell_type": "code",
   "execution_count": 1,
   "id": "c3e5a21c",
   "metadata": {},
   "outputs": [
    {
     "name": "stdout",
     "output_type": "stream",
     "text": [
      "On place les prédictions HTR dans le dossier : ./xmlPage-aCorriger/\n"
     ]
    }
   ],
   "source": [
    "from py.constantes import XMLaCORRIGER, XMLCORRIGEES\n",
    "print(f\"\"\"On place les prédictions HTR dans le dossier : {XMLaCORRIGER}\"\"\")"
   ]
  },
  {
   "cell_type": "markdown",
   "id": "bb461cd8",
   "metadata": {},
   "source": [
    "# Valider l'annotation des régions\n",
    "\n",
    "Il est important de contrôler l'annotation des régions et des lignes, et ce pour deux raisons :\n",
    "- Afin de vérifier que l'on a correctement respecté les catégories Segmonto\n",
    "- Afin de vérifier que l'on n'a pas oublié d'annoter les lignes ou certaines régions d'une page (ce qui est fréquent étant donné le caractère répétitif de la tâche)\n",
    "\n",
    "On peut procéder à cette validation en exportant l'ensemble des pages traitées, en les dézippant dans un dossier et en lançant la commande suivante depuis l'intérieur du dossier en question (bien vérifier que l'environnement virtuel du projet soit actif) :"
   ]
  },
  {
   "cell_type": "code",
   "execution_count": null,
   "id": "d8383e30",
   "metadata": {},
   "outputs": [],
   "source": [
    "!htrvx ./*xml --format alto --segmonto"
   ]
  },
  {
   "cell_type": "markdown",
   "id": "7b830b3c",
   "metadata": {},
   "source": [
    "Si l'on obtient le message *1 wrongly tagged zones* pour un fichier, et que la vérification de la page concernée ne permet pas de découvrir où se trouve la zone mal annotée, il se peut que le message d'erreur concerne une minuscule zone sans ligne. On ne tient alors pas compte de l'erreur."
   ]
  }
 ],
 "metadata": {
  "kernelspec": {
   "display_name": "Python 3 (ipykernel)",
   "language": "python",
   "name": "python3"
  },
  "language_info": {
   "codemirror_mode": {
    "name": "ipython",
    "version": 3
   },
   "file_extension": ".py",
   "mimetype": "text/x-python",
   "name": "python",
   "nbconvert_exporter": "python",
   "pygments_lexer": "ipython3",
   "version": "3.8.10"
  }
 },
 "nbformat": 4,
 "nbformat_minor": 5
}
