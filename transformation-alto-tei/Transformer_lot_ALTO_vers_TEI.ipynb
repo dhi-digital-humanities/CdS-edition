{
 "cells": [
  {
   "cell_type": "markdown",
   "id": "9b35553d",
   "metadata": {},
   "source": [
    "Transformer un lot de fichiers ALTO en éditions TEI\n",
    "==========================================\n",
    "\n",
    "\n",
    "\n",
    "# Distribuer les fichiers dans une arborescence de dossiers\n",
    "\n",
    "Le script distributionFichiers.py va copier les fichiers de prédictions dans des dossiers portant l'identifiant de chaque lettre à éditer. Il ne crée de dossier que s'il dispose de toutes les prédictions nécessaires."
   ]
  },
  {
   "cell_type": "code",
   "execution_count": null,
   "id": "274c7e18",
   "metadata": {},
   "outputs": [],
   "source": [
    "python3 py/distributionFichiers.py SOURCE SORTIE"
   ]
  },
  {
   "cell_type": "markdown",
   "id": "7bc38b6f",
   "metadata": {},
   "source": [
    "# Transformer les prédictions en fichier TEI\n",
    "\n",
    "On applique le script [build.py]()."
   ]
  },
  {
   "cell_type": "code",
   "execution_count": null,
   "id": "e2174dcd",
   "metadata": {},
   "outputs": [],
   "source": []
  }
 ],
 "metadata": {
  "kernelspec": {
   "display_name": "Python 3 (ipykernel)",
   "language": "python",
   "name": "python3"
  },
  "language_info": {
   "codemirror_mode": {
    "name": "ipython",
    "version": 3
   },
   "file_extension": ".py",
   "mimetype": "text/x-python",
   "name": "python",
   "nbconvert_exporter": "python",
   "pygments_lexer": "ipython3",
   "version": "3.8.10"
  }
 },
 "nbformat": 4,
 "nbformat_minor": 5
}
