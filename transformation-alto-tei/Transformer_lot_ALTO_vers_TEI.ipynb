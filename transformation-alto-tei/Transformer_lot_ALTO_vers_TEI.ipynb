{
 "cells": [
  {
   "cell_type": "markdown",
   "id": "11f252a3",
   "metadata": {},
   "source": [
    "Transformer un lot de fichiers ALTO en éditions TEI\n",
    "==========================================\n",
    "\n",
    "\n",
    "\n",
    "# Distribuer les fichiers dans une arborescence de dossiers\n",
    "\n",
    "Le script distributionFichiers.py va copier les fichiers de prédictions dans des dossiers portant l'identifiant de chaque lettre à éditer. Il ne crée de dossier que s'il dispose de toutes les prédictions nécessaires."
   ]
  },
  {
   "cell_type": "code",
   "execution_count": 9,
   "id": "c1093007",
   "metadata": {},
   "outputs": [
    {
     "name": "stdout",
     "output_type": "stream",
     "text": [
      "Le dossier ./data est vide, vous pouvez passer à la suite\n"
     ]
    }
   ],
   "source": [
    "import os\n",
    "\n",
    "# On crée le dossier data pour l'écriture des sorties s'il n'existe pas encore\n",
    "!mkdir --parents ./data\n",
    "\n",
    "# On contrôle le contenu du dossier ./data s'il existait déjà\n",
    "contenu = False\n",
    "for chemin, dossiers, fichiers in os.walk(\"./data\"):\n",
    "    if fichiers:\n",
    "        contenu = True\n",
    "if contenu:\n",
    "    print(\"Attention, le dossier ./data n'est pas vide. Voulez-vous archiver son contenu avant de passer à l'étape suivent ?\")\n",
    "else:\n",
    "    print(\"Le dossier ./data est vide, vous pouvez passer à l'import des fichiers.\")"
   ]
  },
  {
   "cell_type": "code",
   "execution_count": 17,
   "id": "d8e8c3f8",
   "metadata": {},
   "outputs": [
    {
     "name": "stdout",
     "output_type": "stream",
     "text": [
      "'./data/CdS-b1-07ux/CdS02_Konv019_0002.xml' supprimé\r\n",
      "'./data/CdS-b1-07ux/CdS02_Konv019_0002.jpg' supprimé\r\n",
      "répertoire './data/CdS-b1-07ux' supprimé\r\n",
      "'./data/CdS-b1-07ux.xml' supprimé\r\n",
      "'./data/CdS-b1-07uy/CdS02_Konv019_0003.jpg' supprimé\r\n",
      "'./data/CdS-b1-07uy/CdS02_Konv019_0003.xml' supprimé\r\n",
      "répertoire './data/CdS-b1-07uy' supprimé\r\n",
      "'./data/CdS-b1-07uy.xml' supprimé\r\n",
      "'./data/CdS-b1-07uz/CdS02_Konv019_0004.xml' supprimé\r\n",
      "'./data/CdS-b1-07uz/CdS02_Konv019_0004.jpg' supprimé\r\n",
      "répertoire './data/CdS-b1-07uz' supprimé\r\n",
      "'./data/CdS-b1-07uz.xml' supprimé\r\n",
      "'./data/CdS-b1-07v0/CdS02_Konv019_0005.jpg' supprimé\r\n",
      "'./data/CdS-b1-07v0/CdS02_Konv019_0005.xml' supprimé\r\n",
      "répertoire './data/CdS-b1-07v0' supprimé\r\n",
      "'./data/CdS-b1-07v0.xml' supprimé\r\n"
     ]
    }
   ],
   "source": [
    "# Pour supprimer tout le contenu du dossier ./data (sans possibilité de récupération !)\n",
    "!rm -rfv ./data/*"
   ]
  },
  {
   "cell_type": "code",
   "execution_count": 15,
   "id": "d2fa20ca",
   "metadata": {},
   "outputs": [
    {
     "name": "stdout",
     "output_type": "stream",
     "text": [
      "Le dossier ./data/CdS-b1-07ux a été créé avec succès.\r\n",
      "Le dossier ./data/CdS-b1-07uy a été créé avec succès.\r\n",
      "Le dossier ./data/CdS-b1-07uz a été créé avec succès.\r\n",
      "Le dossier ./data/CdS-b1-07v0 a été créé avec succès.\r\n"
     ]
    }
   ],
   "source": [
    "# On lance le script après avoir remplacé SOURCE par le nom du dossier\n",
    "!python3 ./py/distributionFichiers.py import-CdS02_Konv019"
   ]
  },
  {
   "cell_type": "markdown",
   "id": "86143551",
   "metadata": {},
   "source": [
    "# Transformer les prédictions en fichier TEI\n",
    "\n",
    "On applique le script [run.py](./run.py), élaboré dans le cadre du projet [Gallicorpora](https://github.com/kat-kel/alto2tei)"
   ]
  },
  {
   "cell_type": "code",
   "execution_count": 16,
   "id": "e1c514ad",
   "metadata": {},
   "outputs": [
    {
     "name": "stdout",
     "output_type": "stream",
     "text": [
      "\n",
      "=====================================\n",
      "\u001b[32m~ now processing document CdS-b1-07uz ~\u001b[0m\n",
      "\u001b[33mmapping metadata\u001b[0m\n",
      "|________finished in 0.1513 seconds\n",
      "\u001b[33mcreating <teiHeader> and <sourceDoc>\u001b[0m\n",
      "|________finished in 0.0060 seconds\n",
      "\u001b[33mextracting and annotating text in <body>\u001b[0m\n",
      "|________finished in 0.0102 seconds\n",
      "\n",
      "=====================================\n",
      "\u001b[32m~ now processing document CdS-b1-07v0 ~\u001b[0m\n",
      "\u001b[33mmapping metadata\u001b[0m\n",
      "|________finished in 0.1508 seconds\n",
      "\u001b[33mcreating <teiHeader> and <sourceDoc>\u001b[0m\n",
      "|________finished in 0.0059 seconds\n",
      "\u001b[33mextracting and annotating text in <body>\u001b[0m\n",
      "|________finished in 0.0026 seconds\n",
      "\n",
      "=====================================\n",
      "\u001b[32m~ now processing document CdS-b1-07ux ~\u001b[0m\n",
      "\u001b[33mmapping metadata\u001b[0m\n",
      "|________finished in 0.1517 seconds\n",
      "\u001b[33mcreating <teiHeader> and <sourceDoc>\u001b[0m\n",
      "|________finished in 0.0064 seconds\n",
      "\u001b[33mextracting and annotating text in <body>\u001b[0m\n",
      "|________finished in 0.0025 seconds\n",
      "\n",
      "=====================================\n",
      "\u001b[32m~ now processing document CdS-b1-07uy ~\u001b[0m\n",
      "\u001b[33mmapping metadata\u001b[0m\n",
      "|________finished in 0.1542 seconds\n",
      "\u001b[33mcreating <teiHeader> and <sourceDoc>\u001b[0m\n",
      "|________finished in 0.0070 seconds\n",
      "\u001b[33mextracting and annotating text in <body>\u001b[0m\n",
      "|________finished in 0.0026 seconds\n"
     ]
    }
   ],
   "source": [
    "# On lance le script de création des fichiers TEI après avoir remplacé DONNEES par le chemin du fichier de données\n",
    "# correspondant à la source\n",
    "!python3 run.py import-CdS02_Konv019/donnees.json"
   ]
  }
 ],
 "metadata": {
  "kernelspec": {
   "display_name": "Python 3 (ipykernel)",
   "language": "python",
   "name": "python3"
  },
  "language_info": {
   "codemirror_mode": {
    "name": "ipython",
    "version": 3
   },
   "file_extension": ".py",
   "mimetype": "text/x-python",
   "name": "python",
   "nbconvert_exporter": "python",
   "pygments_lexer": "ipython3",
   "version": "3.8.10"
  }
 },
 "nbformat": 4,
 "nbformat_minor": 5
}
