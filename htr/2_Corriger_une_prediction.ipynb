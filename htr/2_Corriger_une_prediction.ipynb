{
 "cells": [
  {
   "cell_type": "markdown",
   "metadata": {},
   "source": [
    "Corriger une prédiction HTR\n",
    "===\n",
    "<br>\n",
    "\n",
    "D'après la démarche expliquée dans la documentation du projet [DAHN](https://github.com/FloChiff/DAHNProject/blob/8df8dfc6053a7dd57a6c5510d1e56bb336ce1d04/Project%20development/Documentation/Post-OCR%20correction%20for%20TEXT%20files.md), on procède selon les étapes suivantes.\n",
    "\n",
    "On privilégie le format XML-Alto pour exporter et réimporter les prédictions HTR dans le logiciel de transcription."
   ]
  },
  {
   "cell_type": "code",
   "execution_count": null,
   "metadata": {},
   "outputs": [],
   "source": [
    "from py.constantes import XMLaCORRIGER\n",
    "print(f\"On place les prédictions HTR dans le dossier : {XMLaCORRIGER}\")"
   ]
  },
  {
   "cell_type": "code",
   "execution_count": null,
   "metadata": {},
   "outputs": [],
   "source": [
    "# Si le dossier n'a pas encore été créé, on peut lancer la commande suivante pour le faire\n",
    "!mkdir {XMLaCORRIGER}"
   ]
  },
  {
   "cell_type": "markdown",
   "metadata": {},
   "source": [
    "# Analyser le contenu de la prédiction\n",
    "\n",
    "Le script [spellcheckTexts.py](./py/spellcheckTexts.py) analyse chaque mot des prédictions HTR et génère pour chaque fichier XML à corriger un dictionnaire au format Json contenant des propositions de corrections.\n",
    "\n",
    "On s'assure dans un premier temps de disposer des dossiers nécessaires au stockage des fichiers :"
   ]
  },
  {
   "cell_type": "code",
   "execution_count": 3,
   "metadata": {},
   "outputs": [
    {
     "name": "stdout",
     "output_type": "stream",
     "text": [
      "On placera les dictionnaires de page au format Json dans le dossier : ./py/dicos/aCorriger/\n"
     ]
    }
   ],
   "source": [
    "from py.constantes import DICTPAGESNONCORR\n",
    "print(f\"On placera les dictionnaires de page au format Json dans le dossier : {DICTPAGESNONCORR}\")"
   ]
  },
  {
   "cell_type": "code",
   "execution_count": 4,
   "metadata": {},
   "outputs": [
    {
     "name": "stdout",
     "output_type": "stream",
     "text": [
      "mkdir: impossible de créer le répertoire «./py/dicos/aCorriger/»: Le fichier existe\r\n"
     ]
    }
   ],
   "source": [
    "# Si le dossier n'a pas encore été créé, on peut lancer la commande suivante pour le faire\n",
    "!mkdir {DICTPAGESNONCORR}"
   ]
  },
  {
   "cell_type": "markdown",
   "metadata": {},
   "source": [
    "**On exécute le script [spellcheckTexts.py](./py/spellcheckTexts.py)**. Il est conseillé de placer plusieurs pages à corriger ensemble dans le dossier. Le temps de calcul étant long (5 min environ), on peut ainsi commencer à corriger la première page terminée tandis que le script continue à tourner sur les autres :"
   ]
  },
  {
   "cell_type": "code",
   "execution_count": null,
   "metadata": {},
   "outputs": [],
   "source": [
    "!python3 py/spellcheckTexts.py"
   ]
  },
  {
   "cell_type": "markdown",
   "metadata": {},
   "source": [
    "# Corriger les dictionnaires de pages\n",
    "\n",
    "On corrige à la main les entrées du dictionnaire de chacun des fichiers générés dans le dossier [dicos/aCorriger](py/dicos/aCorriger).\n",
    "\n",
    "Voici une série de cas particuliers accompagnés de leur méthode de résolution. On entend par **forme** le résultat de la prédiction HTR et par **lemme** la correction adéquate ou les corrections possibles de la forme.\n",
    "\n",
    "## Forme erronée et plusieurs propositions de correction\n",
    "\n",
    "Lorsque les propositions de corrections sont multiples, on doit veiller à **placer en première position la correction souhaitée** :\n",
    "```json\n",
    "\"fout\": {\n",
    "    \"lem\": [\n",
    "        \"faut\",\n",
    "        \"font\"\n",
    "    ],\n",
    "  \"ctxt\": [\"Les bons comptes FOUT les bons amis\"]\n",
    "```\n",
    "\n",
    "Il faut donc corriger pour obtenir :\n",
    "```json\n",
    "\"fout\": {\n",
    "    \"lem\": [\n",
    "        \"font\",\n",
    "        \"faut\"\n",
    "    ],\n",
    "  \"ctxt\": [\"Les bons comptes FOUT les bons amis\"]\n",
    "```\n",
    "\n",
    "On peut également supprimer la correction non souhaitée :\n",
    "```json\n",
    "\"fout\": {\n",
    "    \"lem\": [\n",
    "        \"font\"\n",
    "    ],\n",
    "  \"ctxt\": [\"Les bons comptes FOUT les bons amis\"]\n",
    "```\n",
    "\n",
    "\n",
    "## Forme juste et proposition de correction fausse\n",
    "\n",
    "Lorsque la forme prédite est juste mais que la proposition de correction n'est pas juste, il faut la neutraliser en remplaçant la proposition par **null**. Par exemple, le dictionnaire propose automatiquement :\n",
    "```json\n",
    "\"Cet\": {\n",
    "    \"lem\": [\n",
    "        \"et\"\n",
    "        ],\n",
    "    \"ctxt\": \"CET ouvrage que je viens de publier\"\n",
    "}\n",
    "```\n",
    "Ici, \"Cet\" est juste, et la proposition \"et\" est fausse, on doit donc la remplacer ainsi :\n",
    "```json\n",
    "\"Cet\": {\n",
    "    \"lem\": [\n",
    "        null\n",
    "        ],\n",
    "    \"ctxt\": \"CET ouvrage que je viens de publier\"\n",
    "}\n",
    "```\n",
    "\n",
    "## Forme juste et proposition de correction \"null\"\n",
    "\n",
    "Il n'est pas nécessaire de transformer les mots justes dont le lemme est indiqué comme \"null\". Ils apparaitront tels quels dans le fichier XML corrigé et seront intégrés à la prochaine utilisation de [spellcheckTexts.py](./py/spellcheckTexts.py).\n",
    "\n",
    "## Les noms propres\n",
    "\n",
    "Les **patronymes** représentent une difficulté importante de la transcription. Pour la plupart, ils ont par bonheur été déjà identifiés dans les notices de l'inventaire. On se reportera donc aux notices du site web. On se reportera aux [outils du dossier donnees](https://github.com/sbiay/CdS-edition/tree/main/donnees#outils), et plus particulièrement au [notebook](https://github.com/sbiay/CdS-edition/blob/main/donnees/Obtenir_metadonnees_images.ipynb) dédié à la récupération des liens vers les notices de l'inventaire à partir d'un nom de fichier image.\n",
    "\n",
    "## Sauvegarder le dictionnaire de page corrigé\n",
    "\n",
    "Une fois les corrections faites, on copie le fichier dans un dossier dédié :"
   ]
  },
  {
   "cell_type": "code",
   "execution_count": 1,
   "metadata": {},
   "outputs": [
    {
     "name": "stdout",
     "output_type": "stream",
     "text": [
      "On place les dictionnaires de pages corrigés dans le dossier : ./py/dicos/corriges/\n"
     ]
    }
   ],
   "source": [
    "from py.constantes import DICTPAGESCORR\n",
    "print(f\"On place les dictionnaires de pages corrigés dans le dossier : {DICTPAGESCORR}\")"
   ]
  },
  {
   "cell_type": "code",
   "execution_count": 2,
   "metadata": {},
   "outputs": [
    {
     "name": "stdout",
     "output_type": "stream",
     "text": [
      "mkdir: impossible de créer le répertoire «./py/dicos/corriges/»: Le fichier existe\r\n"
     ]
    }
   ],
   "source": [
    "# Si le dossier n'a pas encore été créé, on peut lancer la commande suivante pour le faire\n",
    "!mkdir {DICTPAGESCORR}"
   ]
  },
  {
   "cell_type": "markdown",
   "metadata": {},
   "source": [
    "# Appliquer le dictionnaire du projet aux fichiers XML\n",
    "\n",
    "On procède à l'application des corrections grâce au script [text_correction_XML.py](./py/text_correction_XML.py) :"
   ]
  },
  {
   "cell_type": "code",
   "execution_count": null,
   "metadata": {},
   "outputs": [],
   "source": [
    "!python3 py/textCorrection.py"
   ]
  },
  {
   "cell_type": "markdown",
   "metadata": {},
   "source": [
    "Ce script ajoute automatiquement les corrections appliquées au fichier global [correctionsCDS.json](./py/dicos/correctionsCDS.json). Si d'autres corrections existent déjà pour les mêmes formes dans [correctionsCDS.json](./py/dicos/correctionsCDS.json), l'ensemble des corrections constitue une liste, réexploitée à la prochaine correction de page en proposant comme premier choix le mot le plus fréquent parmi les vérités de terrain."
   ]
  }
 ],
 "metadata": {
  "kernelspec": {
   "display_name": "Python 3 (ipykernel)",
   "language": "python",
   "name": "python3"
  },
  "language_info": {
   "codemirror_mode": {
    "name": "ipython",
    "version": 3
   },
   "file_extension": ".py",
   "mimetype": "text/x-python",
   "name": "python",
   "nbconvert_exporter": "python",
   "pygments_lexer": "ipython3",
   "version": "3.8.10"
  }
 },
 "nbformat": 4,
 "nbformat_minor": 2
}
