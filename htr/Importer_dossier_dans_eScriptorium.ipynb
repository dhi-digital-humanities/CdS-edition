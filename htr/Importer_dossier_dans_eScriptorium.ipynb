{
 "cells": [
  {
   "cell_type": "markdown",
   "id": "e4f7ac86",
   "metadata": {
    "pycharm": {
     "name": "#%% md\n"
    }
   },
   "source": [
    "Importer un dossier dans eScriptorium\n",
    "===\n",
    "<br>\n",
    "\n",
    "Nous avons opté pour l'application eScriptorium pour les raisons exposées dans notre [documentation analytique](https://github.com/sbiay/CdS-edition/blob/main/documentation/documentation.pdf).\n",
    "\n",
    "La structure d'organisation des dossiers que nous avons adoptée consiste à créer un **projet** pour tous les documents de la correspondance à éditer, et à créer un **document** pour chaque dossier d'images (voir la [documentation en ligne](https://lectaurep.hypotheses.org/documentation/prendre-en-main-escriptorium#nouveaudocument) à ce propos).\n",
    "\n",
    "# Renseigner les métadonnées du document\n",
    "\n",
    "Il est possible de renseigner des métadonnées pour le document, mais celle-ci ne sont pas exportables dans les fichiers XML-Alto. Leur renseignement n'a par conséquent que peu d'intérêt pour la chaîne de traitement.\n",
    "\n",
    "Dans la mesure où l'inventaire des lettres ne propose pas de description détaillée des métadonnées pour chaque dossier de la correspondance, on peut inscrire simplement en tant que **Metadata** du document : \n",
    "```txt\n",
    "folder : NOM\n",
    "```\n",
    "Pour la valeur NOM, on reprend tel quel le nom du dossier de stockage des images, par exmple :\n",
    "```txt\n",
    "folder : CdS02_Konv019\n",
    "```\n",
    "\n",
    "# Renseigner l'ontologie du document\n",
    "\n",
    "Avant de procéder à la segmentation des zones, il est nécessaire de renseigner les catégories de lignes et de zones (*region*) qui constituent l'ontologie du document.\n",
    "\n",
    "Le rôle des catégories listées ci-dessous est explicité dans le *notebook* [Segmenter et annoter les pages d'un dossier](./4_Segmenter_et_annoter_une_page.ipynb) et la justification des ces choix est argumentée dans la [documentation analytique](https://github.com/sbiay/CdS-edition/blob/main/documentation/documentation.pdf).\n",
    "\n",
    "## *Regions*\n",
    "\n",
    "- MainZone\n",
    "- MarginTextZone\n",
    "- NumberingZone\n",
    "- RunningTitleZone\n",
    "- CustomZone:closer\n",
    "- CustomZone:header\n",
    "- CustomZone:opener\n",
    "- CustomZone:page\n",
    "\n",
    "## *Lines*\n",
    "\n",
    "- DefaultLine\n",
    "- HeadingLine:title\n",
    "- InterlinearLine\n",
    "- CustomLine:dateline\n",
    "- CustomLine:postscript\n",
    "- CustomLine:salute\n",
    "- CustomLine:signature\n",
    "- CustomLine:verse"
   ]
  }
 ],
 "metadata": {
  "kernelspec": {
   "display_name": "Python 3 (ipykernel)",
   "language": "python",
   "name": "python3"
  },
  "language_info": {
   "codemirror_mode": {
    "name": "ipython",
    "version": 3
   },
   "file_extension": ".py",
   "mimetype": "text/x-python",
   "name": "python",
   "nbconvert_exporter": "python",
   "pygments_lexer": "ipython3",
   "version": "3.8.10"
  }
 },
 "nbformat": 4,
 "nbformat_minor": 5
}
