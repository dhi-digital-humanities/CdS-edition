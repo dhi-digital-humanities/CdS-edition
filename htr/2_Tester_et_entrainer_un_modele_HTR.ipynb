{
 "cells": [
  {
   "cell_type": "markdown",
   "id": "5942aca2",
   "metadata": {},
   "source": [
    "Tester et entraîner un modèle HTR\n",
    "===\n",
    "\n",
    "\n",
    "# Tester les performances du modèle\n",
    "\n",
    "Les recueils qui constituent une part importante de la correspondance de Constance de Salm sont l'oeuvre de plusieurs scribes. La différence des écritures représente une difficulté certaine pour la reconnaissance automatique.\n",
    "\n",
    "## Classer les images par mains\n",
    "\n",
    "**compléter**\n",
    "\n",
    "Renseigner le fichier [mains.csv](./sources/mains.csv) qui jouera un rôle important dans l'évaluation des modèles et leur entraînement.\n",
    "\n",
    "## Sélectionner des spécimens de chaque écriture\n",
    "\n",
    "On crée dans le dossier de chaque main un dossier **test** contenant des spécimens d'écriture selon les critères suivants :\n",
    "- Reproductions de bonne qualité (sans problème de transparence)\n",
    "- 2 doubles pages environ\n",
    "- Choisies manière discontinue (l'écriture d'une même main peut en effet varier)\n",
    "\n",
    "Si certaines mains ne sont attestées qu'en compagnie d'autres écritures, on veillera à limiter le test de reconnaissance d'écriture aux seuls lignes de la main à tester (en supprimant après segmentation les lignes non pertinentes afin que la reconnaissance de l'écriture ne les traite pas).\n",
    "\n",
    "\n",
    "## Tester des modèles HTR\n",
    "\n",
    "### Installer l'application Kraken\n",
    "\n",
    "### Importer un modèle\n",
    "\n",
    "### Initier un journal de tests\n",
    "\n",
    "Le script [journalReconn.py](./py/journalReconn.py) permet de pré-remplir un journal pour l'enregistrement des résultats des tests effectués sur les modèles. \n",
    "\n",
    "On lui donne comme argument un nom de modèle et il écrit dans le fichier Json [journal-reconn.json](./sources/journal-reconn.json), à la date et à l'heure courante, pour chaque main listée dans le fichier [mains.csv](./sources/mains.csv).\n",
    "\n",
    "Le test initial se fait naturellement sans avoir entraîné le modèle sur les vérités de terrain.\n",
    "\n",
    "Pour lancer l'écriture du journal :"
   ]
  },
  {
   "cell_type": "code",
   "execution_count": 9,
   "id": "87cc60f7",
   "metadata": {},
   "outputs": [],
   "source": [
    "!python3 py/journalReconn.py cm_ft_mrs15_11.mlmodel"
   ]
  },
  {
   "cell_type": "markdown",
   "id": "829132d3",
   "metadata": {},
   "source": [
    "Le contenu écrit dans le fichier journal donne comme **accuracy** pour chaque main une valeur de 0. Cette valeur doit être saisie manuellement dans le fichier une fois effectué le test comme suit.\n",
    "\n",
    "\n",
    "# Effectuer un test\n",
    "\n",
    "Avec la commande suivante on effectue un test d'acuité pour un modèle sur une main particulière (on doit relever l'*Average accuracy*) :"
   ]
  },
  {
   "cell_type": "code",
   "execution_count": null,
   "id": "cd9340df",
   "metadata": {},
   "outputs": [
    {
     "name": "stdout",
     "output_type": "stream",
     "text": [
      "WARNING:root:Torch version 1.11.0+cu102 has not been tested with coremltools. You may run into unexpected errors. Torch 1.10.2 is the most recent version that has been tested.\n",
      "Loading model ./sources/modeles/souvay.mlmodel\t\u001b[0m\u001b[32m✓\u001b[0m\n",
      "Evaluating ./sources/modeles/souvay.mlmodel\u001b[0m\n",
      "\u001b[2KEvaluating \u001b[38;2;249;38;114m━━━━━━━━━━━━━━━━━━━━━━━━━━━━━━\u001b[0m\u001b[38;2;249;38;114m╸\u001b[0m\u001b[38;5;237m━━━━━━━━━\u001b[0m \u001b[35m 77%\u001b[0m \u001b[35m68/88\u001b[0m \u001b[36m0:00:05\u001b[0m \u001b[33m0:00:17\u001b[0m"
     ]
    }
   ],
   "source": [
    "# ketos test -m ./source/modeles/NOM-MODEL.mlmodel source/NOM-MAIN/test/*xml -f alto\n",
    "!ketos test -m ./sources/modeles/souvay.mlmodel sources/mainCdS02_Konv019_02/test/*xml -f alto"
   ]
  },
  {
   "cell_type": "markdown",
   "id": "145f205a",
   "metadata": {},
   "source": [
    "## Créer des vérités de terrain pour chaque spécimen\n",
    "\n",
    "On procède à la constitution d'une vérité de terrain pour chaque spécimen. Pour cela, il n'est pas nécessaire d'annoter les régions d'écriture dans le cadre de la segmentation de la page (comme expliqué dans le notebook [suivant](./2_Realiser_une_prediction_HTR.ipynb)). On se contente d'une segmentation automatique, puis on transcrit les lignes manuellement."
   ]
  }
 ],
 "metadata": {
  "kernelspec": {
   "display_name": "Python 3 (ipykernel)",
   "language": "python",
   "name": "python3"
  },
  "language_info": {
   "codemirror_mode": {
    "name": "ipython",
    "version": 3
   },
   "file_extension": ".py",
   "mimetype": "text/x-python",
   "name": "python",
   "nbconvert_exporter": "python",
   "pygments_lexer": "ipython3",
   "version": "3.8.10"
  }
 },
 "nbformat": 4,
 "nbformat_minor": 5
}
