{
 "cells": [
  {
   "cell_type": "markdown",
   "id": "a530c60d",
   "metadata": {},
   "source": [
    "Réaliser une prédiction HTR\n",
    "===\n",
    "<br>\n",
    "\n",
    "# Convertir les images\n",
    "\n",
    "Afin de ne pas manipuler puis stocker des fichiers de trop gros format, on recommande de convertir les fichiers images `.tif` de l'archive de la correspondance au format `.jpg`. \n",
    "\n",
    "La conversion des images est très simple avec logiciel libre [XnView MP](https://www.xnview.com/fr/xnviewmp/):\n",
    "\n",
    "![démo-conversion](./img/demo/conversion-format-img.png)"
   ]
  },
  {
   "cell_type": "markdown",
   "id": "2f114903",
   "metadata": {},
   "source": [
    "(Attention, chaque fois que l'on ré-enregistre un fichier au format `.jpg`, une nouvelle compression des données s'opère, il est donc recommandé de ne pas modifier ces fichiers une fois convertis).\n",
    "\n",
    "# Choisir un logiciel de transcription automatisée\n",
    "\n",
    "Nous avons privilégié le logiciel libre e-Scriptorium, dont la prise en main est documentée [ici](https://lectaurep.hypotheses.org/documentation/prendre-en-main-escriptorium), notamment avec les recommandations pour son déploiement local.\n",
    "\n",
    "# Typer les régions et les lignes d'écriture de la page\n",
    "\n",
    "Après avoir lancé l'algorithme de segmentation de la page, on passe à la phase d'[annotation manuelle](https://lectaurep.hypotheses.org/documentation/prendre-en-main-escriptorium#annotationmanuelle), au cours de laquelle on applique la typologie de régions suivante :\n",
    "\n",
    "![Typage des régions](./img/demo/essai-zones-CdS02_Konv002-02_0066.jpg)"
   ]
  },
  {
   "cell_type": "markdown",
   "id": "2256b280",
   "metadata": {},
   "source": [
    "Une fois le typage des régions effectué, il ne faut pas oublier d'appliquer à toutes les **lignes** le type \"Main\" et de repérer si la page présente des corrections en interligne, auquel on attribue le type \"Correction\" :\n",
    "\n",
    "![Exemple de correction](./img/demo/correction.jpg)\n",
    "\n",
    "En outre, si la page présente des vers (comme c'est également le cas de l'exemple ci-dessus), on leur attribue le type \"Verse\".\n",
    "\n",
    "Enfin, il est important de contrôler **l'ordre des lignes**, facilement perturbé dans e-Scriptorium."
   ]
  },
  {
   "cell_type": "markdown",
   "id": "fda2fe09",
   "metadata": {},
   "source": [
    "# Effectuer une prédiction\n",
    "\n",
    "Une fois les zones typées, on lance l'algorithme de reconnaissance d'écriture choisi sur les images annotées. Une fois le processus achevé, on exporte les fichiers au format XML-Page sans les images."
   ]
  },
  {
   "cell_type": "code",
   "execution_count": 1,
   "id": "c3e5a21c",
   "metadata": {},
   "outputs": [
    {
     "name": "stdout",
     "output_type": "stream",
     "text": [
      "On place les prédictions HTR dans le dossier : ./xmlPage-aCorriger/\n"
     ]
    }
   ],
   "source": [
    "from py.constantes import XMLaCORRIGER, XMLCORRIGEES\n",
    "print(f\"\"\"On place les prédictions HTR dans le dossier : {XMLaCORRIGER}\"\"\")"
   ]
  }
 ],
 "metadata": {
  "kernelspec": {
   "display_name": "Python 3 (ipykernel)",
   "language": "python",
   "name": "python3"
  },
  "language_info": {
   "codemirror_mode": {
    "name": "ipython",
    "version": 3
   },
   "file_extension": ".py",
   "mimetype": "text/x-python",
   "name": "python",
   "nbconvert_exporter": "python",
   "pygments_lexer": "ipython3",
   "version": "3.8.10"
  }
 },
 "nbformat": 4,
 "nbformat_minor": 5
}
